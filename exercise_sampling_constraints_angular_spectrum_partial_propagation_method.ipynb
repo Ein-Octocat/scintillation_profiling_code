{
 "cells": [
  {
   "cell_type": "code",
   "execution_count": 176,
   "metadata": {},
   "outputs": [],
   "source": [
    "\"\"\"\n",
    "From pg 139 (Schmidt, 2010) - graphically chosing parameters to satisfy sampling constraints for multiple (n-1)\n",
    "partial propagations\n",
    "\n",
    "Parameters:\n",
    "\n",
    "delta1 - sample spacing for source screen\n",
    "delta_n - sample spacing for observation screen\n",
    "N - number of grid points (both source and observation)\n",
    "D1 - maximum spatial extent of source\n",
    "D2 - maximum spatial extent of observation screen (e.g diameter of sensor)\n",
    "wvl - optical wavelength\n",
    "Dz - propagation distance\n",
    "R - radius of parabolic wavefront\n",
    "\"\"\"\n",
    "\n",
    "import numpy as np\n",
    "import matplotlib.pyplot as plt"
   ]
  },
  {
   "cell_type": "code",
   "execution_count": 177,
   "metadata": {},
   "outputs": [],
   "source": [
    "def constraint_1(D1,D2,delta1,wvl,Dz):\n",
    "    \n",
    "    delta_n = -(D2/D1)*delta1 + wvl*Dz/D1\n",
    "    \n",
    "    return delta_n"
   ]
  },
  {
   "cell_type": "code",
   "execution_count": 178,
   "metadata": {},
   "outputs": [],
   "source": [
    "def constraint_2(delta1,delta_n,D1,D2,wvl,Dz):\n",
    "    \n",
    "    delta1_mesh,delta_n_mesh = np.meshgrid(delta1,delta_n)\n",
    "    \n",
    "    N = D1/(2*delta1_mesh) + D2/(2*delta_n_mesh) + wvl*Dz/(2*delta1_mesh*delta_n_mesh) \n",
    "    \n",
    "    return delta1_mesh,delta_n_mesh,N"
   ]
  },
  {
   "cell_type": "code",
   "execution_count": 179,
   "metadata": {},
   "outputs": [],
   "source": [
    "def constraint_3(delta1,D1,R,Dz,wvl):\n",
    "    \n",
    "    if (R != 'inf'): \n",
    "    \n",
    "        delta_n_low = (1 + Dz/R)*delta1 - wvl*Dz/D1\n",
    "        delta_n_high = (1 + Dz/R)*delta1 + wvl*Dz/D1\n",
    "        \n",
    "    if (R == 'inf'):\n",
    "        \n",
    "        delta_n_low = delta1 - wvl*Dz/D1\n",
    "        delta_n_high = delta1 + wvl*Dz/D1\n",
    "    \n",
    "    return delta_n_low, delta_n_high"
   ]
  },
  {
   "cell_type": "code",
   "execution_count": 180,
   "metadata": {},
   "outputs": [],
   "source": [
    "def constraint_4(delta1,delta_n,wvl,Dz):\n",
    "    \n",
    "    delta1_mesh,delta_n_mesh = np.meshgrid(delta1,delta_n)\n",
    "    \n",
    "    N = wvl*Dz/(delta1_mesh*delta_n_mesh)\n",
    "    \n",
    "    return delta1_mesh,delta_n_mesh,N"
   ]
  },
  {
   "cell_type": "code",
   "execution_count": 181,
   "metadata": {},
   "outputs": [],
   "source": [
    "delta1 = np.linspace(1e-6, 600e-6,100)\n",
    "delta_n = np.linspace(1e-6, 1200e-6,100)\n",
    "\n",
    "D1 = 2e-3\n",
    "D2 = 4e-3\n",
    "Dz = 2.0\n",
    "wvl = 1e-6\n",
    "R = 'inf'\n",
    "#R = 0.01\n",
    "\n",
    "delta_n_constraint_1 = constraint_1(D1, D2, delta1, wvl, Dz)\n",
    "\n",
    "delta1_mesh, delta_n_mesh, N_constraint_2 = constraint_2(delta1, delta_n, D1, D2, wvl, Dz)\n",
    "\n",
    "delta_n_constraint_3_low, delta_n_constraint_3_high = constraint_3(delta1, D1, R, Dz, wvl)\n",
    "\n",
    "#delta1_mesh, delta_n_mesh, N_constraint_4 = constraint_4(delta1, delta_n, wvl, Dz)"
   ]
  },
  {
   "cell_type": "code",
   "execution_count": 182,
   "metadata": {
    "scrolled": true
   },
   "outputs": [
    {
     "data": {
      "image/png": "[encoded data removed]",
      "text/plain": [
       "<Figure size 432x288 with 1 Axes>"
      ]
     },
     "metadata": {
      "needs_background": "light"
     },
     "output_type": "display_data"
    }
   ],
   "source": [
    "#%matplotlib qt\n",
    "fig, ax = plt.subplots()\n",
    "\n",
    "plt.plot(delta1, delta_n_constraint_1, '-.', label = 'Constraint 1')\n",
    "\n",
    "plt.plot(delta1, delta_n_constraint_3_low, '--', label = 'Constraint 3 Low')\n",
    "plt.plot(delta1, delta_n_constraint_3_high, '--', label = 'Constraint 3 High')\n",
    "\n",
    "#contour_constraint_3 = ax.contour( delta1_mesh, delta_n_mesh, np.log2(N_constraint_2), 5, cmap = 'plasma') #needs contour label\n",
    "#ax.clabel(contour_constraint_3, inline=1, fontsize=10)\n",
    "\n",
    "#contour_constraint_4 = ax.contour( delta1_mesh, delta_n_mesh, np.log2(N_constraint_4), 10)\n",
    "#ax.clabel(contour_constraint_4, inline=1, fontsize=10)\n",
    "\n",
    "plt.ticklabel_format(style='sci', scilimits=(0,0))\n",
    "\n",
    "plt.xlim(left = delta1[0], right = delta1[-1])\n",
    "plt.ylim(bottom = delta_n[0], top = delta_n[-1])\n",
    "\n",
    "plt.xlabel(r'$\\delta_1$ [m]')\n",
    "plt.ylabel(r'$\\delta_n$ [m]')\n",
    "\n",
    "#plt.title('Constraint 4')\n",
    "plt.grid()\n",
    "\n",
    "plt.legend()\n",
    "plt.show()"
   ]
  },
  {
   "cell_type": "code",
   "execution_count": 188,
   "metadata": {},
   "outputs": [],
   "source": [
    "%matplotlib qt\n",
    "fig, ax = plt.subplots()\n",
    "\n",
    "plt.plot(delta1, delta_n_constraint_1, '-.', label = 'Constraint 1')\n",
    "\n",
    "#plt.plot(delta1, delta_n_constraint_3_low, '--', label = 'Constraint 3 Low')\n",
    "#plt.plot(delta1, delta_n_constraint_3_high, '--', label = 'Constraint 3 High')\n",
    "\n",
    "contour_constraint_3 = ax.contour( delta1_mesh, delta_n_mesh, np.log2(N_constraint_2), 20, cmap = 'plasma') #needs contour label\n",
    "ax.clabel(contour_constraint_3, inline=1, fontsize=10)\n",
    "\n",
    "#contour_constraint_4 = ax.contour( delta1_mesh, delta_n_mesh, np.log2(N_constraint_4), 10)\n",
    "#ax.clabel(contour_constraint_4, inline=1, fontsize=10)\n",
    "\n",
    "plt.ticklabel_format(style='sci', scilimits=(0,0))\n",
    "\n",
    "plt.xlim(left = delta1[0], right = delta1[-1])\n",
    "plt.ylim(bottom = delta_n[0], top = delta_n[-1])\n",
    "\n",
    "plt.xlabel(r'$\\delta_1$ [m]')\n",
    "plt.ylabel(r'$\\delta_2$ [m]')\n",
    "\n",
    "plt.title('Constraint 2')\n",
    "plt.grid()\n",
    "\n",
    "plt.legend()\n",
    "plt.show()"
   ]
  },
  {
   "cell_type": "code",
   "execution_count": 184,
   "metadata": {},
   "outputs": [],
   "source": [
    "def calc_min_plane_sep(delta1, delta_n, N, wvl):\n",
    "    \n",
    "    if (delta1 < delta_n):\n",
    "        \n",
    "        delta_zi = pow(delta1,2)*N/wvl\n",
    "    \n",
    "    if (delta_n < delta1):\n",
    "        \n",
    "        delta_zi = pow(delta_n,2)*N/wvl\n",
    "    \n",
    "    return delta_zi"
   ]
  },
  {
   "cell_type": "code",
   "execution_count": 185,
   "metadata": {},
   "outputs": [],
   "source": [
    "def calc_num_partial_prop(delta_z, delta_z_max):\n",
    "    \n",
    "    return np.ceil(delta_z / delta_zi) + 1\n",
    "    "
   ]
  },
  {
   "cell_type": "code",
   "execution_count": 191,
   "metadata": {},
   "outputs": [
    {
     "name": "stdout",
     "output_type": "stream",
     "text": [
      "0.56945792 5.0\n"
     ]
    }
   ],
   "source": [
    "delta_zi =  calc_min_plane_sep(66.7e-6, 133e-6, 2**7, wvl)\n",
    "n = calc_num_partial_prop(Dz, delta_zi)\n",
    "\n",
    "print(delta_zi, n)"
   ]
  },
  {
   "cell_type": "code",
   "execution_count": null,
   "metadata": {},
   "outputs": [],
   "source": []
  }
 ],
 "metadata": {
  "kernelspec": {
   "display_name": "Python 3",
   "language": "python",
   "name": "python3"
  },
  "language_info": {
   "codemirror_mode": {
    "name": "ipython",
    "version": 3
   },
   "file_extension": ".py",
   "mimetype": "text/x-python",
   "name": "python",
   "nbconvert_exporter": "python",
   "pygments_lexer": "ipython3",
   "version": "3.7.3"
  }
 },
 "nbformat": 4,
 "nbformat_minor": 2
}
