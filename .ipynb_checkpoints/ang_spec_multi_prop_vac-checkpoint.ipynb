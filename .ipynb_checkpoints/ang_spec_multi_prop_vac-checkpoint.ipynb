{
 "cells": [
  {
   "cell_type": "code",
   "execution_count": 77,
   "metadata": {},
   "outputs": [],
   "source": [
    "import numpy as np\n",
    "import scipy.fftpack as sp\n",
    "\n",
    "import matplotlib.pyplot as plt\n",
    "from mpl_toolkits.mplot3d import Axes3D  # noqa: F401 unused import\n",
    "from matplotlib import cm\n",
    "from matplotlib.ticker import LinearLocator, FormatStrFormatter\n",
    "#%matplotlib inline\n",
    "\n",
    "import aotools"
   ]
  },
  {
   "cell_type": "code",
   "execution_count": 78,
   "metadata": {},
   "outputs": [],
   "source": [
    "\"\"\"\n",
    "Complex field amplitude to intensity\n",
    "\"\"\"\n",
    "def U_to_I(U):\n",
    "    return np.abs(U)**2"
   ]
  },
  {
   "cell_type": "code",
   "execution_count": 79,
   "metadata": {},
   "outputs": [],
   "source": [
    "\"\"\"\n",
    "Adapted from Matlab code written by (Schmidt,2010-Chp 2-pg 36)\n",
    "\"\"\"\n",
    "def ft2(g, delta):\n",
    "   \n",
    "    return sp.fftshift( sp.fft2( sp.fftshift(g) ) ) * delta**2"
   ]
  },
  {
   "cell_type": "code",
   "execution_count": 80,
   "metadata": {},
   "outputs": [],
   "source": [
    "\"\"\"\n",
    "Adapted from Matlab code written by (Schmidt,2010,Chp2,pg37)\n",
    "\"\"\"\n",
    "def ift2(G, delta_f):\n",
    "    \n",
    "    N = G.shape[0]\n",
    "    \n",
    "    return sp.ifftshift( sp.ifft2( sp.ifftshift(G) ) ) * (N * delta_f)**2"
   ]
  },
  {
   "cell_type": "markdown",
   "metadata": {},
   "source": [
    "Absorbing Boundaries are attenuation factors that are applied at each partial-propagation plane for preventing energy that is spreading beyond the extent of the grid (Schmidt, 2010 - Chp 8, pg 134)\n",
    "\n",
    "$$g_{sg}(x,y) = \\exp\\bigg[-\\bigg(\\frac{r}{\\sigma}\\bigg)^n\\bigg]\\quad,\\quad n>2$$\n",
    "\n",
    "Often $\\sigma = 0.47N$, where $N$ is the number of points per side and $n=16$"
   ]
  },
  {
   "cell_type": "code",
   "execution_count": 81,
   "metadata": {},
   "outputs": [],
   "source": [
    "def sg_absorber(nx, ny, sig, n=16):\n",
    "    \n",
    "    rn = np.sqrt(nx**2 + ny**2)\n",
    "    \n",
    "    return np.exp(-(rn/sig)**n)"
   ]
  },
  {
   "cell_type": "code",
   "execution_count": 82,
   "metadata": {},
   "outputs": [],
   "source": [
    "\"\"\"\n",
    "Rectangular function - Good test source since we can generate analytical comparisons\n",
    "\"\"\"\n",
    "\n",
    "def rect(x, a):\n",
    "    \n",
    "    y = np.zeros_like(x)\n",
    "    \n",
    "    for i, xn in enumerate(x):\n",
    "        \n",
    "        if (abs(xn) < a / 2.0):\n",
    "            \n",
    "            y[i] = 1.0\n",
    "            \n",
    "        if (abs(xn) == a / 2.0):\n",
    "            \n",
    "            y[i] = 0.5\n",
    "            \n",
    "        if (abs(xn) > a / 2.0):\n",
    "            \n",
    "            y[i] = 0.0\n",
    "            \n",
    "    return y\n",
    "        "
   ]
  },
  {
   "cell_type": "code",
   "execution_count": 83,
   "metadata": {},
   "outputs": [],
   "source": [
    "\"\"\"\n",
    "Pretty 3d contour plot function for output intensity fields\n",
    "\"\"\"\n",
    "def gen_3d_contour(xn, yn, I):\n",
    "    \n",
    "    #%matplotlib qt\n",
    "    \n",
    "    fig = plt.figure()\n",
    "    ax = fig.gca(projection='3d')\n",
    "\n",
    "    ax.set_xlabel(r'$x$')\n",
    "    ax.set_ylabel(r'$y$')\n",
    "    ax.set_zlabel(r'$I(x,y)$')\n",
    "\n",
    "    ax.set_zlim(np.amin(I), np.amax(I))\n",
    "\n",
    "    surf = ax.plot_surface(xn, yn, I, cmap=cm.viridis,linewidth=0, antialiased=False)\n",
    "    #cset = ax.contour(xn, yn, I, zdir = 'x', offset =-0.04, cmap = cm.viridis)\n",
    "    #cset = ax.contour(xn, yn, I, zdir = 'y', offset =0.04, cmap = cm.viridis)\n",
    "\n",
    "    fig.colorbar(surf, shrink=0.5, aspect=5)\n",
    "    \n",
    "    return"
   ]
  },
  {
   "cell_type": "code",
   "execution_count": 84,
   "metadata": {},
   "outputs": [],
   "source": [
    "\"\"\"\n",
    "Diagram of propagation geometry \n",
    "- potentially useful for inspecting to insure code is setting up simulation correctly\n",
    "- potentially useful for displaying propagation distances and spacings\n",
    "\"\"\"\n",
    "\n",
    "def set_up_geometry(Uin,delta,delta_z):\n",
    "    \n",
    "    fig = plt.figure()\n",
    "    ax = fig.gca(projection = '3d')\n",
    "\n",
    "    planes = []\n",
    "\n",
    "    N = Uin.shape[0]    \n",
    "    nx,ny = np.meshgrid(np.arange(-N/2, N/2), np.arange(-N/2, N/2))\n",
    "\n",
    "    x1 = nx * delta[0]\n",
    "    y1 = ny * delta[0]\n",
    "\n",
    "    #alot of points to run in 3d plot, since only for display purposes --> downsample\n",
    "    sample_rate = 1 #take every sample_rate point\n",
    "\n",
    "    planes.append([x1[::sample_rate,::sample_rate],y1[::sample_rate,::sample_rate]])\n",
    "\n",
    "    for idx in range(1,n):\n",
    "\n",
    "        xi = nx * delta[idx]\n",
    "        yi = ny * delta[idx]\n",
    "\n",
    "        planes.append([xi[::sample_rate,::sample_rate],yi[::sample_rate,::sample_rate]])\n",
    "\n",
    "    flat = np.zeros_like(nx)  \n",
    "    flat = flat[::sample_rate,::sample_rate]\n",
    "\n",
    "    for i, plane in enumerate(planes):\n",
    "        ax.plot_wireframe(flat + z[i],plane[0],plane[1], alpha=0.75)\n",
    "\n",
    "    ax.set_zlabel('Grid Spacing $(y) [m]$')\n",
    "    ax.set_ylabel('Grid Spacing $(x) [m]$')\n",
    "    ax.set_xlabel('Propagation Distance $(z) [m]$')    \n",
    "    #ax.set_zlim(np.amin(z), np.amax(z))\n",
    "        \n",
    "    return"
   ]
  },
  {
   "cell_type": "code",
   "execution_count": 85,
   "metadata": {},
   "outputs": [],
   "source": [
    "D1 = 2.0e-3 #diameter of the source aperture [m]\n",
    "D2 = 6.0e-3 #diameter of the observation aperture [m]\n",
    "wvl = 1e-6 #optical wavelength [m]\n",
    "k = 2*np.pi / wvl #optical wavenumber [rad/m]\n",
    "z = 1.0 #propagation distance [m]\n",
    "delta1 = D1 / 30 #spacing at source screen [m]\n",
    "deltan = D2 / 30 #spacing at observation [m]\n",
    "N = 128 #dfft power of 2  efficiency etc\n",
    "n = 5 #number of partial propagations (n+1 screens needed altogether)\n",
    "\n",
    "R = 'inf' #radius of curvature of wavefront - set 'inf' if plane wave\n",
    "\n",
    "# switch from total distance to individual distances - position of each screen through not source (?)\n",
    "z = np.arange(1,n+1) * z/n\n",
    "\n",
    "\"\"\"\n",
    "Initialise source screen\n",
    "\"\"\"\n",
    "x1 = delta1*np.arange(-N/2,N/2)\n",
    "y1 = delta1*np.arange(-N/2,N/2)\n",
    "\n",
    "apx, apy = np.meshgrid(rect(x1,D1),rect(y1,D1))\n",
    "ap = apx*apy"
   ]
  },
  {
   "cell_type": "code",
   "execution_count": 86,
   "metadata": {},
   "outputs": [
    {
     "data": {
      "text/plain": [
       "<matplotlib.colorbar.Colorbar at 0x7f8a9d2cdbe0>"
      ]
     },
     "execution_count": 86,
     "metadata": {},
     "output_type": "execute_result"
    }
   ],
   "source": [
    "Uin = ap\n",
    "plt.figure()\n",
    "\n",
    "plt.imshow( U_to_I(Uin), cmap='gray' )\n",
    "\n",
    "plt.colorbar()"
   ]
  },
  {
   "cell_type": "code",
   "execution_count": 87,
   "metadata": {},
   "outputs": [
    {
     "name": "stdout",
     "output_type": "stream",
     "text": [
      "[0.  0.2 0.4 0.6 0.8 1. ] [0.2 0.2 0.2 0.2 0.2] 6\n"
     ]
    }
   ],
   "source": [
    "\"\"\"\n",
    "Start of (to be) function here\n",
    "\"\"\"\n",
    "N = Uin.shape[0]    \n",
    "nx,ny = np.meshgrid(np.arange(-N/2, N/2), np.arange(-N/2, N/2))\n",
    "\n",
    "k = 2*np.pi / wvl\n",
    "\n",
    "sig = 0.47*N\n",
    "sg = sg_absorber(nx,ny,sig)\n",
    "\n",
    "z = np.insert(z,0,0) #add source position here at origin - Position of screens and distance from plane 1\n",
    "n = int(z.shape[0]) #now n is total number of screens and there are n-1 partial propagations \n",
    "delta_z = np.diff(z) # array of propagation distances from plane i to plane i+1, not total propagation distance\n",
    "\n",
    "print(z,delta_z,n)"
   ]
  },
  {
   "cell_type": "code",
   "execution_count": 88,
   "metadata": {},
   "outputs": [],
   "source": [
    "\"\"\"\n",
    "Fractional distance FROM (hence total deltaz (otherwise our orginal z input) not inter-plane deltaz) from\n",
    "plane 1 (z) to plane i. We recasted z as an array of positions but we still have total deltaz as final element.\n",
    "Schmidt does this, a little confusing - I don't know how I feel about it.\n",
    "\"\"\"\n",
    "alpha = z / z[-1] \n",
    "\n",
    "delta = (1 - alpha) * delta1 + alpha * deltan\n",
    "\n",
    "m = delta[1:] / delta[0:-1] #scaling factor from i+1/i\n",
    "\n",
    "set_up_geometry(Uin,delta,delta_z)"
   ]
  },
  {
   "cell_type": "code",
   "execution_count": 89,
   "metadata": {},
   "outputs": [
    {
     "data": {
      "text/plain": [
       "<matplotlib.colorbar.Colorbar at 0x7f8a9d2a82b0>"
      ]
     },
     "execution_count": 89,
     "metadata": {},
     "output_type": "execute_result"
    }
   ],
   "source": [
    "\n",
    "\"\"\"\n",
    "\"\"\"\n",
    "x1 = nx * delta[0]\n",
    "y1 = ny * delta[0]\n",
    "\n",
    "r1sq = x1**2 + y1**2\n",
    "\n",
    "#print(delta_z)\n",
    "#print(alpha)\n",
    "#print(delta)\n",
    "#print(m)\n",
    "\n",
    "#print('delta,delta_z,m')\n",
    "#print(delta[0],delta_z[0],m[0])\n",
    "\"\"\"\n",
    "Phase Factor 1\n",
    "\"\"\"\n",
    "Q1 =  np.exp(1j * k/2 * (1-m[0])/delta_z[0] * r1sq)\n",
    "\n",
    "Uin = Uin * Q1\n",
    "\n",
    "#gen_3d_contour(x1, y1, np.abs(Uin)**2)\n",
    "\n",
    "plt.figure()\n",
    "plt.imshow(np.abs(Uin)**2,cmap='gray')\n",
    "plt.colorbar()"
   ]
  },
  {
   "cell_type": "code",
   "execution_count": 90,
   "metadata": {},
   "outputs": [],
   "source": [
    "\"\"\"\n",
    "n-1 partial-plane propagations\n",
    "\"\"\"\n",
    "for idx in range(0,n-1):\n",
    "    \n",
    "    xi = nx * delta[idx]\n",
    "    yi = ny * delta[idx]\n",
    "    \n",
    "    deltaf = 1 / (N * delta[idx])\n",
    "    \n",
    "    fX = nx * deltaf\n",
    "    fY = ny * deltaf\n",
    "\n",
    "    fsq = fX**2 + fY**2\n",
    "\n",
    "    Z = delta_z[idx]\n",
    "    mag = m[idx]\n",
    "    \n",
    "    #print('delta,delta_z,m')\n",
    "    #print(delta[idx],Z,mag)\n",
    "    \n",
    "    \"\"\"\n",
    "    Phase Factor 2 (Quadratic Phase Factor)\n",
    "    \"\"\"\n",
    "    \n",
    "    Q2 = np.exp(-1j * np.pi**2 * 2 * Z/mag/k*fsq)\n",
    "   \n",
    "    Uin = ft2(Uin / mag, delta[idx])    \n",
    "    Uin = ift2(Q2 * Uin, deltaf) \n",
    "       \n",
    "    Uin = sg * Uin #apply boundary absorber\n",
    "    \n",
    "    #gen_3d_contour(xi, yi, np.abs(Uin)**2)\n",
    "    \n",
    "    plt.figure()\n",
    "    plt.imshow(np.abs(Uin)**2,cmap='gray')\n",
    "    plt.colorbar()"
   ]
  },
  {
   "cell_type": "code",
   "execution_count": 91,
   "metadata": {},
   "outputs": [
    {
     "data": {
      "text/plain": [
       "<matplotlib.colorbar.Colorbar at 0x7f8a9c08c710>"
      ]
     },
     "execution_count": 91,
     "metadata": {},
     "output_type": "execute_result"
    }
   ],
   "source": [
    "\"\"\"\n",
    "Obervation screen \n",
    "\"\"\"\n",
    "\n",
    "xn = nx * delta[-1]\n",
    "yn = ny * delta[-1]\n",
    "\n",
    "#print('delta_z,m,delta')\n",
    "#print(Z,m[-1],delta[-1])\n",
    "\n",
    "rnsq = xn**2 + yn**2\n",
    "\n",
    "\"\"\"\n",
    "Phase Factor 3\n",
    "\"\"\"\n",
    "Q3 = np.exp(1j * k/2. * (m[-1]-1)/(m[-1]*Z) * rnsq)\n",
    "\n",
    "Uout = Q3 * Uin\n",
    "\n",
    "I = np.abs(Uout)**2\n",
    "\n",
    "plt.figure()\n",
    "plt.imshow(I,cmap='gray')\n",
    "plt.colorbar()"
   ]
  },
  {
   "cell_type": "code",
   "execution_count": 92,
   "metadata": {},
   "outputs": [
    {
     "data": {
      "text/plain": [
       "[<matplotlib.lines.Line2D at 0x7f8a9c19e278>]"
      ]
     },
     "execution_count": 92,
     "metadata": {},
     "output_type": "execute_result"
    }
   ],
   "source": [
    "\"\"\"\n",
    "Inspect middle row cross-section of intensity and phase\n",
    "\"\"\"\n",
    "\n",
    "rows,cols = Uout.shape\n",
    "\n",
    "mid_row = int(rows / 2)\n",
    "\n",
    "I_slice = U_to_I( Uout[mid_row] )\n",
    "phase_slice = np.angle( Uout[mid_row] )\n",
    "\n",
    "xn_slice = xn[mid_row]\n",
    "\n",
    "plt.figure()\n",
    "plt.plot(xn_slice, I_slice, '.-')\n",
    "\n",
    "plt.figure()\n",
    "plt.plot(xn_slice, phase_slice, '.-')"
   ]
  }
 ],
 "metadata": {
  "kernelspec": {
   "display_name": "Python 3",
   "language": "python",
   "name": "python3"
  },
  "language_info": {
   "codemirror_mode": {
    "name": "ipython",
    "version": 3
   },
   "file_extension": ".py",
   "mimetype": "text/x-python",
   "name": "python",
   "nbconvert_exporter": "python",
   "pygments_lexer": "ipython3",
   "version": "3.7.3"
  }
 },
 "nbformat": 4,
 "nbformat_minor": 2
}
