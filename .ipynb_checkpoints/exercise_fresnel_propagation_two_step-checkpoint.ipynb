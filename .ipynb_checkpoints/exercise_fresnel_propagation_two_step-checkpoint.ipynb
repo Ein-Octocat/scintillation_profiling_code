{
 "cells": [
  {
   "cell_type": "markdown",
   "metadata": {},
   "source": [
    "Exercise from (Schmidt,2010) pg 92-96 testing aotools twoStepFresnel function"
   ]
  },
  {
   "cell_type": "code",
   "execution_count": 102,
   "metadata": {},
   "outputs": [],
   "source": [
    "import aotools\n",
    "import soapy\n",
    "import numpy as np\n",
    "import matplotlib.pyplot as plt"
   ]
  },
  {
   "cell_type": "code",
   "execution_count": 103,
   "metadata": {},
   "outputs": [],
   "source": [
    "\"\"\"\n",
    "Rectangular function\n",
    "\"\"\"\n",
    "\n",
    "def rect(x,a):\n",
    "    \n",
    "    y = np.zeros_like(x)\n",
    "    \n",
    "    for i, xn in enumerate(x):\n",
    "        \n",
    "        if (abs(xn) < a / 2.0):\n",
    "            \n",
    "            y[i] = 1.0\n",
    "            \n",
    "        if (abs(xn) == a / 2.0):\n",
    "            \n",
    "            y[i] = 0.5\n",
    "            \n",
    "        if (abs(xn) > a / 2.0):\n",
    "            \n",
    "            y[i] = 0.0\n",
    "            \n",
    "    return y\n",
    "        "
   ]
  },
  {
   "cell_type": "code",
   "execution_count": 104,
   "metadata": {},
   "outputs": [],
   "source": [
    "\"\"\"\n",
    "Setting parameters -we can now set the desired spacing of the observation screen\n",
    "\"\"\"\n",
    "\n",
    "N = 1024 # number of grid points per side\n",
    "L = 1e-1 # total size of the grid [m]\n",
    "delta1 = L / N # grid spacing of source screen [m]\n",
    "D = 2e-3 # diameter of the aperture [m]\n",
    "wvl = 1e-6 # optical wavelength [m]\n",
    "k = 2*np.pi / wvl # optical wavevector [1/m]\n",
    "Dz = 1.0 # propagation distance [m]\n",
    "\n",
    "#***************************#\n",
    "delta2 = (wvl * Dz / (N*delta1))*0.5  # grid spacing of observation screen [m]\n",
    "#***************************#"
   ]
  },
  {
   "cell_type": "code",
   "execution_count": 105,
   "metadata": {},
   "outputs": [
    {
     "name": "stdout",
     "output_type": "stream",
     "text": [
      "0.051199999999999996\n"
     ]
    }
   ],
   "source": [
    "print(delta2 / delta1)"
   ]
  },
  {
   "cell_type": "code",
   "execution_count": 106,
   "metadata": {},
   "outputs": [],
   "source": [
    "\"\"\"\n",
    "Source screen grid \n",
    "\"\"\"\n",
    "\n",
    "x1 = delta1*np.arange(-N/2,N/2, dtype = complex)\n",
    "y1 = delta1*np.arange(-N/2,N/2, dtype = complex)\n",
    "\n",
    "apx,apy = np.meshgrid(rect(x1,D),rect(y1,D))\n",
    "ap = apx * apy"
   ]
  },
  {
   "cell_type": "code",
   "execution_count": 107,
   "metadata": {},
   "outputs": [],
   "source": [
    "\"\"\"\n",
    "Checking source function image\n",
    "\"\"\"\n",
    "\n",
    "plt.imshow(np.real(ap))\n",
    "plt.colorbar()\n",
    "plt.show()"
   ]
  },
  {
   "cell_type": "code",
   "execution_count": 108,
   "metadata": {},
   "outputs": [],
   "source": [
    "\"\"\"\n",
    "Propagate source two step - only returns intensity not grid?\n",
    "\"\"\"\n",
    "\n",
    "Uout = aotools.opticalpropagation.twoStepFresnel(ap, wvl, delta1, delta2, Dz)"
   ]
  },
  {
   "cell_type": "code",
   "execution_count": 109,
   "metadata": {},
   "outputs": [],
   "source": [
    "\"\"\"\n",
    "Observation screen image\n",
    "\"\"\"\n",
    "\n",
    "plt.imshow(np.real(Uout))\n",
    "plt.colorbar()\n",
    "plt.show()"
   ]
  },
  {
   "cell_type": "code",
   "execution_count": 110,
   "metadata": {},
   "outputs": [],
   "source": [
    "\"\"\"\n",
    "Observation screen grid - note twoStepFresnel enables choice of spacing in observation screen\n",
    "- intensity calculation matches correctly for grid below\n",
    "\"\"\"\n",
    "\n",
    "x2 = delta2*np.arange(-N/2,N/2, dtype = complex)\n",
    "y2 = delta2*np.arange(-N/2,N/2, dtype = complex)\n",
    "\n",
    "obx,oby = np.meshgrid(x2,y2)\n",
    "ob = obx * oby"
   ]
  },
  {
   "cell_type": "code",
   "execution_count": 111,
   "metadata": {},
   "outputs": [
    {
     "data": {
      "text/plain": [
       "<matplotlib.colorbar.Colorbar at 0x7fe919f39048>"
      ]
     },
     "execution_count": 111,
     "metadata": {},
     "output_type": "execute_result"
    }
   ],
   "source": [
    "\"\"\"\n",
    "Pretty 3-D surface intensity plot of observation screen image\n",
    "\"\"\"\n",
    "\n",
    "%matplotlib qt\n",
    "from mpl_toolkits.mplot3d import Axes3D  # noqa: F401 unused import\n",
    "from matplotlib import cm\n",
    "from matplotlib.ticker import LinearLocator, FormatStrFormatter\n",
    "\n",
    "fig = plt.figure()\n",
    "ax = fig.gca(projection='3d')\n",
    "\n",
    "ax.set_xlabel(r'$x$')\n",
    "ax.set_ylabel(r'$y$')\n",
    "ax.set_zlabel(r'$I(x,y)$')\n",
    "\n",
    "ax.set_zlim(np.amin(np.real(Uout)), np.amax(np.real(Uout)))\n",
    "\n",
    "surf = ax.plot_surface(np.real(obx), np.real(oby), np.real(Uout), cmap=cm.viridis,linewidth=0, antialiased=False)\n",
    "fig.colorbar(surf, shrink=0.5, aspect=5)"
   ]
  }
 ],
 "metadata": {
  "kernelspec": {
   "display_name": "Python 3",
   "language": "python",
   "name": "python3"
  },
  "language_info": {
   "codemirror_mode": {
    "name": "ipython",
    "version": 3
   },
   "file_extension": ".py",
   "mimetype": "text/x-python",
   "name": "python",
   "nbconvert_exporter": "python",
   "pygments_lexer": "ipython3",
   "version": "3.7.3"
  }
 },
 "nbformat": 4,
 "nbformat_minor": 2
}
