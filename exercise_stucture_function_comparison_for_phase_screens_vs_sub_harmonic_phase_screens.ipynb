{
 "cells": [
  {
   "cell_type": "code",
   "execution_count": 527,
   "metadata": {},
   "outputs": [],
   "source": [
    "import aotools\n",
    "import numpy as np\n",
    "import matplotlib.pyplot as plt\n",
    "from mpl_toolkits.mplot3d import Axes3D \n",
    "from matplotlib import cm\n",
    "from matplotlib.ticker import LinearLocator, FormatStrFormatter\n",
    "%matplotlib qt\n",
    "import scipy.fftpack as sp\n",
    "\n",
    "r0 = 0.1 #Fried parameter [m] - typically 5-10 cm for vertical viewing \n",
    "N = 256 #pixel number\n",
    "L0 = 100.0 #Length of outer scale [m] - typically 100 m\n",
    "l0 = 0.01 #Length of inner scale [m] - typically 1-100 mm\n",
    "D = 2.0\n",
    "delta = D/N\n",
    "\n",
    "set_number = 40\n",
    "\n",
    "ps = [aotools.turbulence.phasescreen.ft_sh_phase_screen(r0, N, delta, L0, l0, FFT=None, seed=None) for i in range(set_number)]\n"
   ]
  },
  {
   "cell_type": "code",
   "execution_count": 528,
   "metadata": {},
   "outputs": [],
   "source": [
    "\"\"\"\n",
    "Adapted from Matlab code written by (Schmidt,2010-Chp 2-pg 36)\n",
    "\"\"\"\n",
    "def ft2(g, delta):\n",
    "   \n",
    "    return sp.fftshift( sp.fft2( sp.fftshift(g) ) ) * delta**2\n",
    "\n",
    "\"\"\"\n",
    "Adapted from Matlab code written by (Schmidt,2010,Chp2,pg37)\n",
    "\"\"\"\n",
    "def ift2(G, delta_f):\n",
    "    \n",
    "    N = G.shape[0]\n",
    "    \n",
    "    return sp.ifftshift( sp.ifft2( sp.ifftshift(G) ) ) * (N * delta_f)**2\n",
    "\n",
    "def corr2_ft(u1, u2, mask, delta):\n",
    "    \n",
    "    N = u1.shape[0]\n",
    "    #c = np.zeros((N,N))\n",
    "    \n",
    "    delta_f = 1 / (N*delta)\n",
    "    \n",
    "    U1 = ft2(u1 * mask, delta)\n",
    "    U2 = ft2(u2 * mask, delta);\n",
    "    U12corr = ift2(np.conj(U1)*U2, delta_f)\n",
    "\n",
    "    maskcorr = ift2(np.abs(ft2(mask, delta))**2, delta_f) * delta**2\n",
    "    #maskcorr =  (maskcorr < 0) | (maskcorr > 0)\n",
    "    \n",
    "    c = U12corr / maskcorr * mask\n",
    "    \n",
    "    return c\n",
    "\n",
    "def str_fcn2_ft(ph, mask, delta):\n",
    "    \n",
    "    N = ph.shape[0]\n",
    "    ph = ph * mask\n",
    "    \n",
    "    P = ft2(ph, delta)\n",
    "    S = ft2(ph**2, delta)\n",
    "    W = ft2(mask, delta)\n",
    "    \n",
    "    delta_f = 1/(N*delta)\n",
    "    w2 = ift2(W*np.conj(W),delta_f)\n",
    "    \n",
    "    D = 2 * ift2(np.real(S* np.conj(W)) - np.abs(P)**2, delta_f) / w2 * mask\n",
    "    \n",
    "    return D\n",
    "\n",
    "\n",
    "\"\"\"\n",
    "Pretty 3d contour plot function for output intensity fields\n",
    "\"\"\"\n",
    "def gen_3d_contour(xn, yn, I):\n",
    "    \n",
    "    fig = plt.figure()\n",
    "    ax = fig.gca(projection='3d')\n",
    "\n",
    "    ax.set_xlabel(r'$x$')\n",
    "    ax.set_ylabel(r'$y$')\n",
    "    ax.set_zlabel(r'$I(x,y)$')\n",
    "\n",
    "    ax.set_zlim(np.amin(I), np.amax(I))\n",
    "\n",
    "    surf = ax.plot_surface(xn, yn, I, cmap=cm.viridis,linewidth=0, antialiased=False)\n",
    "\n",
    "    fig.colorbar(surf, shrink=0.5, aspect=5)\n",
    "    \n",
    "    return"
   ]
  },
  {
   "cell_type": "code",
   "execution_count": 529,
   "metadata": {},
   "outputs": [],
   "source": [
    "del_r = np.arange(0,N) * delta"
   ]
  },
  {
   "cell_type": "code",
   "execution_count": 530,
   "metadata": {},
   "outputs": [],
   "source": [
    "vk = aotools.turbulence.slopecovariance.structure_function_vk(del_r, r0, L0)\n",
    "kol = aotools.turbulence.slopecovariance.structure_function_kolmogorov(del_r, r0)\n",
    "\n",
    "mask = np.ones((N,N))\n",
    "sf_com = [str_fcn2_ft(phase_screen, mask, delta) for i, phase_screen in enumerate(ps)]\n",
    "\n",
    "#for i, phase_screen in enumerate(sf_com):\n",
    "#    plt.figure()\n",
    "#    plt.imshow(np.abs(phase_screen))\n",
    "#    plt.colorbar()\n",
    "    \n",
    "sf = [aotools.turbulence.calculate_structure_function(phase_screen, nbOfPoint=N, step=None) for i, phase_screen in enumerate(ps)]"
   ]
  },
  {
   "cell_type": "code",
   "execution_count": 531,
   "metadata": {},
   "outputs": [],
   "source": [
    "sf = np.asarray(sf)\n",
    "sf_com = np.asarray(sf_com)\n",
    "\n",
    "av_sf = sf.mean(axis = 0)\n",
    "av_sf_com = sf_com.mean(axis = 0)"
   ]
  },
  {
   "cell_type": "code",
   "execution_count": 532,
   "metadata": {},
   "outputs": [
    {
     "data": {
      "text/plain": [
       "<matplotlib.colorbar.Colorbar at 0xbc4f9580f0>"
      ]
     },
     "execution_count": 532,
     "metadata": {},
     "output_type": "execute_result"
    }
   ],
   "source": [
    "plt.figure()\n",
    "plt.imshow(np.abs(av_sf_com))\n",
    "plt.colorbar()"
   ]
  },
  {
   "cell_type": "code",
   "execution_count": 533,
   "metadata": {},
   "outputs": [],
   "source": [
    "plt.figure()\n",
    "plt.plot(abs(del_r)/r0 ,vk, label = 'VK') \n",
    "plt.plot(abs(del_r)/r0 ,kol, label = 'KOL')\n",
    "plt.legend()\n",
    "plt.grid()\n",
    "plt.show()"
   ]
  },
  {
   "cell_type": "code",
   "execution_count": 534,
   "metadata": {},
   "outputs": [
    {
     "data": {
      "text/plain": [
       "<matplotlib.legend.Legend at 0xbc480e9358>"
      ]
     },
     "execution_count": 534,
     "metadata": {},
     "output_type": "execute_result"
    }
   ],
   "source": [
    "\"\"\"\n",
    "Inspect middle row cross-section of intensity and phase\n",
    "\"\"\"\n",
    "rows,cols = av_sf_com.shape\n",
    "mid_row = int(rows / 2)\n",
    "\n",
    "av_sf_com_slice = av_sf_com[0]\n",
    "\n",
    "plt.figure()\n",
    "plt.plot(abs(del_r)/r0, av_sf_com_slice, '.-',label = 'SF_Schimdt')\n",
    "plt.plot(abs(del_r[1::])/r0 ,av_sf, '.-', label = 'SF_AOtools')\n",
    "plt.plot(abs(del_r)/r0 ,vk, '.-', label = 'VK') \n",
    "plt.plot(abs(del_r)/r0 ,kol, '.-', label = 'KOL')\n",
    "plt.grid()\n",
    "plt.legend()"
   ]
  },
  {
   "cell_type": "code",
   "execution_count": 535,
   "metadata": {},
   "outputs": [],
   "source": [
    "\"\"\"\n",
    "Rectangular function - Good test source since we can generate analytical comparisons\n",
    "\"\"\"\n",
    "\n",
    "def rect(x, a):\n",
    "    \n",
    "    y = np.zeros_like(x)\n",
    "    \n",
    "    for i, xn in enumerate(x):\n",
    "        \n",
    "        if (abs(xn) < a / 2.0):\n",
    "            \n",
    "            y[i] = 1.0\n",
    "            \n",
    "        if (abs(xn) == a / 2.0):\n",
    "            \n",
    "            y[i] = 0.5\n",
    "            \n",
    "        if (abs(xn) > a / 2.0):\n",
    "            \n",
    "            y[i] = 0.0\n",
    "            \n",
    "    return y\n",
    "       "
   ]
  },
  {
   "cell_type": "code",
   "execution_count": 536,
   "metadata": {},
   "outputs": [],
   "source": [
    "def tri(t,a):\n",
    "    \n",
    "    t = np.abs(t)\n",
    "    y = np.zeros_like(t)\n",
    "    \n",
    "    for i, xn in enumerate(x):\n",
    "        \n",
    "        if (abs(a*xn) < 1):\n",
    "            \n",
    "            y[i] = 1 - abs(a*xn)\n",
    "            \n",
    "        else:\n",
    "            \n",
    "            y[i] = 0\n",
    "        \n",
    "    return y"
   ]
  },
  {
   "cell_type": "code",
   "execution_count": 537,
   "metadata": {},
   "outputs": [],
   "source": [
    "N = 256; # number of samples\n",
    "L = 16; # grid size [m]\n",
    "delta = L / N; # sample spacing [m]\n",
    "F = 1/L; # frequency-domain grid spacing [1/m]\n",
    "\n",
    "x = np.arange(-N/2, N/2) * delta;\n",
    "y = np.arange(-N/2, N/2) * delta;\n",
    "\n",
    "w = 2.0 # width of rectangle\n",
    "rect_x,rect_y = np.meshgrid(rect(x/w,1),rect(y/w,1))\n",
    "A = rect_x *rect_y\n",
    "mask = np.ones((N,N))\n",
    "\n",
    "#perform digital structure function\n",
    "C_str = str_fcn2_ft(A, mask, delta) / delta**2;\n",
    "#perform digital correlation function\n",
    "C_corr = corr2_ft(A, A, mask, delta)\n",
    "\n",
    "#continuous correlation and structure function\n",
    "tri_x,tri_y = np.meshgrid(tri(x/w,1),tri(y/w,1))\n",
    "C_str_cont = 2 * w**2 * (1 - tri_x * tri_y)\n",
    "C_corr_cont =  w**2*tri(x/w,1) * tri(y/w,1);"
   ]
  }
 ],
 "metadata": {
  "kernelspec": {
   "display_name": "Python 3",
   "language": "python",
   "name": "python3"
  },
  "language_info": {
   "codemirror_mode": {
    "name": "ipython",
    "version": 3
   },
   "file_extension": ".py",
   "mimetype": "text/x-python",
   "name": "python",
   "nbconvert_exporter": "python",
   "pygments_lexer": "ipython3",
   "version": "3.7.3"
  }
 },
 "nbformat": 4,
 "nbformat_minor": 2
}
