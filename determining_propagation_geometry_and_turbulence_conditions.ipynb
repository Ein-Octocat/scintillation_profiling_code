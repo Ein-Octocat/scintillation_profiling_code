{
 "cells": [
  {
   "cell_type": "code",
   "execution_count": 134,
   "metadata": {},
   "outputs": [],
   "source": [
    "\"\"\"\n",
    "Determining Propagation Geometry and Turbulence Conditions\n",
    "\"\"\"\n",
    "\n",
    "import numpy as np\n",
    "import matplotlib.pyplot as plt\n",
    "from scipy.optimize import least_squares"
   ]
  },
  {
   "cell_type": "code",
   "execution_count": 135,
   "metadata": {},
   "outputs": [],
   "source": [
    "#Determine geometry\n",
    "D2 = 0.5 #diameter of the observation aperture [m]\n",
    "wvl = 1e-6 #optical wavelength [m]\n",
    "k = 2*np.pi / wvl #optical wavenumber [rad/m]\n",
    "Dz = 50e3 #propagation distance [m]\n",
    "R = Dz #wavefront radius of curvature [m]"
   ]
  },
  {
   "cell_type": "code",
   "execution_count": 136,
   "metadata": {},
   "outputs": [],
   "source": [
    "#Use Sinc to model pt source\n",
    "DROI = 4 * D2\n",
    "D1 = wvl*Dz / DROI \n",
    "R = Dz "
   ]
  },
  {
   "cell_type": "code",
   "execution_count": 137,
   "metadata": {},
   "outputs": [],
   "source": [
    "#Atmospheric properties\n",
    "Cn2 = 1e-16 #structure parameter [m^-2/3], constant"
   ]
  },
  {
   "cell_type": "code",
   "execution_count": 138,
   "metadata": {},
   "outputs": [],
   "source": [
    "#SW and PW coherence diameters [m]\n",
    "r0sw = (0.423 * k**2 * Cn2 * 3.0/8 * Dz)**(-3.0/5)\n",
    "r0pw = (0.423 * k**2 * Cn2 * Dz)**(-3.0/5)\n",
    "p = np.linspace(0, Dz, 1000)"
   ]
  },
  {
   "cell_type": "code",
   "execution_count": 139,
   "metadata": {},
   "outputs": [],
   "source": [
    "#log-amplitude variance\n",
    "rytov = 0.563 * k**(7.0/6) * np.sum( Cn2 * (1 - p/Dz)**(5.0/6) * p**(5.0/6) * (p[1] - p[0]) )"
   ]
  },
  {
   "cell_type": "code",
   "execution_count": 140,
   "metadata": {},
   "outputs": [
    {
     "name": "stdout",
     "output_type": "stream",
     "text": [
      "[0.  0.1 0.2 0.3 0.4 0.5 0.6 0.7 0.8 0.9 1. ]\n",
      "[0.         0.02154435 0.06839904 0.13444214 0.21715341 0.31498026\n",
      " 0.4268272  0.55186146 0.6894191  0.83895278 1.        ]\n",
      "[0.         0.13444214 0.21715341 0.27238472 0.30444537 0.31498026\n",
      " 0.30444537 0.27238472 0.21715341 0.13444214 0.        ]\n"
     ]
    }
   ],
   "source": [
    "#screen properties\n",
    "nscr = 11 #number of screens\n",
    "\n",
    "A = np.zeros((2,nscr))\n",
    "\n",
    "alpha = np.arange(0,nscr)/(nscr-1)\n",
    "print(alpha)\n",
    "A[0] = alpha**(5.0/3)\n",
    "print(A[0])\n",
    "A[1] = (1 - alpha)**(5.0/6) * alpha**(5.0/6)\n",
    "print(A[1])\n",
    "B = np.asarray([r0sw**(-5.0/3), rytov/1.33 * (k/Dz)**(5.0/6)])"
   ]
  },
  {
   "cell_type": "code",
   "execution_count": 141,
   "metadata": {},
   "outputs": [],
   "source": [
    "#initial guess\n",
    "x0 = 0.001*(nscr/3*r0sw * np.ones(nscr))**(-5.0/6)"
   ]
  },
  {
   "cell_type": "code",
   "execution_count": 142,
   "metadata": {},
   "outputs": [],
   "source": [
    "#constraints:\n",
    "#1) x>0 (absolutely neccessary - implemented)\n",
    "#2) rmax = 0.1 (maximum Rytov number per partial group - not absolutely necessary? - not implemented)"
   ]
  },
  {
   "cell_type": "code",
   "execution_count": 143,
   "metadata": {},
   "outputs": [],
   "source": [
    "#objective function\n",
    "\n",
    "def fun(x, A, B):\n",
    "    return B - A.dot(x)\n",
    "\n",
    "#minimise using scipy.optimize.least_squares - allows contraint that x>0 through setting bounds\n",
    "res = least_squares(fun, x0, args =(A,B), bounds = (0,np.inf))"
   ]
  },
  {
   "cell_type": "code",
   "execution_count": 144,
   "metadata": {},
   "outputs": [
    {
     "name": "stdout",
     "output_type": "stream",
     "text": [
      "[1.89506668e-03 3.13032749e+00 5.32060127e+00 7.05775270e+00\n",
      " 8.41672651e+00 9.42161535e+00 1.00739124e+01 1.03573149e+01\n",
      " 1.02302683e+01 9.58783672e+00 2.34445945e-02] [ 1.15052146e-09 -4.43010251e-09] 0.12664241226501954 0.07030689768053816 0.4364896658907703\n"
     ]
    }
   ],
   "source": [
    "x = res.x\n",
    "print(x, B - A.dot(x), r0sw, r0pw, rytov)"
   ]
  },
  {
   "cell_type": "code",
   "execution_count": 145,
   "metadata": {},
   "outputs": [],
   "source": [
    "\"\"\"\n",
    "Sampling Constraints\n",
    "\n",
    "Obtained from exercise_sampling_constraints_angular_spectrum_partial_propagation_method_with_turbulence.ipynb\n",
    "\"\"\"\n",
    "\n",
    "delta1 = 0.01\n",
    "deltan = 0.01\n",
    "\n",
    "N = 512"
   ]
  }
 ],
 "metadata": {
  "kernelspec": {
   "display_name": "Python 3",
   "language": "python",
   "name": "python3"
  },
  "language_info": {
   "codemirror_mode": {
    "name": "ipython",
    "version": 3
   },
   "file_extension": ".py",
   "mimetype": "text/x-python",
   "name": "python",
   "nbconvert_exporter": "python",
   "pygments_lexer": "ipython3",
   "version": "3.7.3"
  }
 },
 "nbformat": 4,
 "nbformat_minor": 2
}
