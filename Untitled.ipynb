{
 "cells": [
  {
   "cell_type": "code",
   "execution_count": 406,
   "metadata": {},
   "outputs": [],
   "source": [
    "import aotools\n",
    "import numpy as np\n",
    "import matplotlib.pyplot as plt\n",
    "from mpl_toolkits.mplot3d import Axes3D \n",
    "from matplotlib import cm\n",
    "from matplotlib.ticker import LinearLocator, FormatStrFormatter\n",
    "%matplotlib qt\n",
    "import scipy.fftpack as sp\n",
    "\n",
    "\"\"\"\n",
    "Rectangular function - Good test source since we can generate analytical comparisons\n",
    "\"\"\"\n",
    "\n",
    "def rect(x, a):\n",
    "\n",
    "    x = np.abs(x)\n",
    "    y = (x < a / 2.0) | ( x > a / 2.0)\n",
    "    y[np.where( x == a / 2.0 )] = 0.5\n",
    "    \n",
    "    return y\n",
    "\n",
    "def tri(t,a):\n",
    "    \n",
    "    t = np.abs(t)\n",
    "    y = np.zeros_like(t)\n",
    "    \n",
    "    for i, xn in enumerate(x):\n",
    "        \n",
    "        if (abs(a*xn) < 1):\n",
    "            \n",
    "            y[i] = 1 - abs(a*xn)\n",
    "            \n",
    "        else:\n",
    "            \n",
    "            y[i] = 0\n",
    "        \n",
    "    return y\n",
    "\n",
    "\"\"\"\n",
    "Adapted from Matlab code written by (Schmidt,2010-Chp 2-pg 36)\n",
    "\"\"\"\n",
    "def ft2(g, delta):\n",
    "   \n",
    "    return sp.fftshift( sp.fft2( sp.fftshift(g) ) ) * delta**2\n",
    "\n",
    "\"\"\"\n",
    "Adapted from Matlab code written by (Schmidt,2010,Chp2,pg37)\n",
    "\"\"\"\n",
    "def ift2(G, delta_f):\n",
    "    \n",
    "    N = G.shape[0]\n",
    "    \n",
    "    return sp.ifftshift( sp.ifft2( sp.ifftshift(G) ) ) * (N * delta_f)**2\n",
    "\n",
    "def corr2_ft(u1, u2, mask, delta):\n",
    "    \n",
    "    N = u1.shape[0]\n",
    "    #c = np.zeros((N,N))\n",
    "    \n",
    "    delta_f = 1 / (N*delta)\n",
    "    \n",
    "    U1 = ft2(u1 * mask, delta)\n",
    "    U2 = ft2(u2 * mask, delta);\n",
    "    U12corr = ift2(np.conj(U1)*U2, delta_f)\n",
    "\n",
    "    maskcorr = ift2(np.abs(ft2(mask, delta))**2, delta_f) * delta**2\n",
    "    #maskcorr =  (maskcorr < 0) | (maskcorr > 0)\n",
    "    \n",
    "    c = U12corr / maskcorr * mask\n",
    "    \n",
    "    return c\n",
    "\n",
    "def str_fcn2_ft(ph, mask, delta):\n",
    "    \n",
    "    N = ph.shape[0]\n",
    "    ph = ph * mask\n",
    "    \n",
    "    P = ft2(ph, delta)\n",
    "    S = ft2(ph**2, delta)\n",
    "    W = ft2(mask, delta)\n",
    "    \n",
    "    delta_f = 1/(N*delta)\n",
    "    w2 = ift2(W*np.conj(W),delta_f)\n",
    "    \n",
    "    D = 2 * ift2(np.real(S* np.conj(W)) - np.abs(P)**2, delta_f) / w2 * mask\n",
    "    \n",
    "    return D"
   ]
  },
  {
   "cell_type": "code",
   "execution_count": 478,
   "metadata": {},
   "outputs": [],
   "source": [
    "N = 256; # number of samples\n",
    "L = 16; # grid size [m]\n",
    "delta = L / N; # sample spacing [m]\n",
    "F = 1/L; # frequency-domain grid spacing [1/m]\n",
    "\n",
    "x = np.arange(-N/2, N/2) * delta;\n",
    "y = np.arange(-N/2, N/2) * delta;\n",
    "\n",
    "w = 2.0 # width of rectangle\n",
    "rect_x,rect_y = np.meshgrid(rect(x/w,1),rect(y/w,1))\n",
    "A = rect_x *rect_y\n",
    "mask = np.ones((N,N))\n",
    "\n",
    "#perform digital structure function\n",
    "C_str = str_fcn2_ft(A, mask, delta) / delta**2;\n",
    "#perform digital correlation function\n",
    "C_corr = corr2_ft(A, A, mask, delta)\n",
    "\n",
    "#continuous correlation and structure function\n",
    "tri_x,tri_y = np.meshgrid(tri(x/w,1),tri(y/w,1))\n",
    "\n",
    "C_str_cont = 2 * w**2 * (1 - tri_x * tri_y)\n",
    "C_corr_cont =  w**2*tri_x * tri_y"
   ]
  },
  {
   "cell_type": "code",
   "execution_count": 479,
   "metadata": {},
   "outputs": [
    {
     "data": {
      "text/plain": [
       "<matplotlib.colorbar.Colorbar at 0x98d8dcecf8>"
      ]
     },
     "execution_count": 479,
     "metadata": {},
     "output_type": "execute_result"
    }
   ],
   "source": [
    "plt.figure()\n",
    "plt.imshow(np.real(C_corr_cont))\n",
    "plt.colorbar()"
   ]
  },
  {
   "cell_type": "code",
   "execution_count": 480,
   "metadata": {},
   "outputs": [],
   "source": [
    "def rect(x, a):\n",
    "    \n",
    "    y = np.zeros_like(x)\n",
    "    \n",
    "    y[np.where( abs(x) < a / 2.0 )] =  1.0\n",
    "    y[np.where( abs(x) > a / 2.0 )] = 0.0\n",
    "    y[np.where( abs(x) == a / 2.0 )] = 0.5\n",
    "    \n",
    "    return y\n",
    "\n",
    "def tri(x,a):\n",
    "    \n",
    "    y = np.zeros_like(x)    \n",
    "    y[np.where(abs(a*x) < 1)] =  1 - abs(a*x[np.where(abs(a*x) < 1)])\n",
    "    \n",
    "    return y\n",
    "\n",
    "x = np.arange(-N/2, N/2) * delta;\n",
    "y = np.arange(-N/2, N/2) * delta;\n",
    "\n",
    "w = 2.0 # width of rectangle\n",
    "x, y = np.meshgrid( np.arange(-N/2, N/2) * delta, np.arange(-N/2, N/2) * delta )\n",
    "\n",
    "A = rect(x,w) * rect(y,w)\n",
    "B = tri(x,1/w) * tri(y,1/w)\n",
    "\n",
    "mask = np.ones((N,N))\n",
    "\n",
    "#perform digital structure function\n",
    "C_str = str_fcn2_ft(A, mask, delta) / delta**2;\n",
    "#perform digital correlation function\n",
    "C_corr = corr2_ft(A, A, mask, delta)\n",
    "\n",
    "C_str_cont = 2 * w**2 * (1 - B)\n",
    "C_corr_cont =  w**2*B"
   ]
  },
  {
   "cell_type": "code",
   "execution_count": 481,
   "metadata": {},
   "outputs": [
    {
     "data": {
      "text/plain": [
       "<matplotlib.colorbar.Colorbar at 0x98d8d40c50>"
      ]
     },
     "execution_count": 481,
     "metadata": {},
     "output_type": "execute_result"
    }
   ],
   "source": [
    "plt.figure()\n",
    "plt.imshow(np.abs(C_str))\n",
    "plt.colorbar()\n",
    "plt.figure()\n",
    "plt.imshow(np.abs(C_str_cont))\n",
    "plt.colorbar()"
   ]
  },
  {
   "cell_type": "code",
   "execution_count": 482,
   "metadata": {},
   "outputs": [
    {
     "data": {
      "text/plain": [
       "<matplotlib.colorbar.Colorbar at 0x98dd8312e8>"
      ]
     },
     "execution_count": 482,
     "metadata": {},
     "output_type": "execute_result"
    }
   ],
   "source": [
    "plt.figure()\n",
    "plt.imshow(np.abs(C_corr))\n",
    "plt.colorbar()\n",
    "\n",
    "plt.figure()\n",
    "plt.imshow(C_corr_cont)\n",
    "plt.colorbar()"
   ]
  },
  {
   "cell_type": "code",
   "execution_count": 559,
   "metadata": {},
   "outputs": [],
   "source": [
    "import aotools\n",
    "\n",
    "r0 = 0.1 #Fried parameter [m] - typically 5-10 cm for vertical viewing \n",
    "N = 256 #pixel number\n",
    "L0 = 100.0 #Length of outer scale [m] - typically 100 m\n",
    "l0 = 0.01 #Length of inner scale [m] - typically 1-100 mm\n",
    "D = 2.0\n",
    "delta = D/N\n",
    "\n",
    "set_number = 100\n",
    "\n",
    "mask = np.ones((N,N))\n",
    "\n",
    "del_r = np.arange(1,N/2) * delta"
   ]
  },
  {
   "cell_type": "code",
   "execution_count": 560,
   "metadata": {},
   "outputs": [],
   "source": [
    "vk = aotools.turbulence.slopecovariance.structure_function_vk(del_r, r0, L0)\n",
    "kol = aotools.turbulence.slopecovariance.structure_function_kolmogorov(del_r, r0)"
   ]
  },
  {
   "cell_type": "code",
   "execution_count": 561,
   "metadata": {},
   "outputs": [],
   "source": [
    "ps = [aotools.turbulence.phasescreen.ft_sh_phase_screen(r0, N, delta, L0, l0, FFT=None, seed=None) for i in range(set_number)]\n",
    "ps_corr = np.asarray([corr2_ft(phase_screen, phase_screen, mask, delta) for i, phase_screen in enumerate(ps)])\n",
    "ps_str = np.asarray([str_fcn2_ft(phase_screen, mask, delta) for i, phase_screen in enumerate(ps)]) \n",
    "ps_var = np.asarray([np.var(phase_screen) for i, phase_screen in enumerate(ps)]) "
   ]
  },
  {
   "cell_type": "code",
   "execution_count": 562,
   "metadata": {},
   "outputs": [],
   "source": [
    "rows,cols = ps[0].shape\n",
    "mid_row = int(rows / 2)\n",
    "\n",
    "ps_slices = np.asarray([phase_screen[mid_row] for i, phase_screen in enumerate(ps)])\n",
    "    \n",
    "def calc_str_fun(ps_slice):\n",
    "    sf_x = np.zeros_like(ps_slice)\n",
    "    for i in range(1,len(ps_slice)):\n",
    "        sf_x[i] = np.mean((ps_slice[0:-i] - ps_slice[i])**2)\n",
    "    return sf_x\n",
    "\n",
    "str_fun = np.asarray([calc_str_fun(ps_slice) for i, ps_slice in enumerate(ps_slices)])\n",
    "av_str_fun = str_fun.mean(axis = 0)\n",
    "\n",
    "plt.figure()\n",
    "#plt.plot(abs(del_r)/r0, av_str_fun[int(N/2+1):])\n",
    "plt.plot(abs(del_r)/r0, kol)\n",
    "plt.plot(abs(del_r)/r0, vk)\n",
    "plt.grid()"
   ]
  },
  {
   "cell_type": "code",
   "execution_count": 563,
   "metadata": {},
   "outputs": [],
   "source": [
    "av_ps_corr = ps_corr.mean(axis = 0)\n",
    "av_ps_str = ps_str.mean(axis = 0)\n",
    "av_ps_var = ps_var.mean(axis = 0)"
   ]
  },
  {
   "cell_type": "code",
   "execution_count": 564,
   "metadata": {},
   "outputs": [
    {
     "data": {
      "text/plain": [
       "<matplotlib.colorbar.Colorbar at 0x98e5e38d30>"
      ]
     },
     "execution_count": 564,
     "metadata": {},
     "output_type": "execute_result"
    }
   ],
   "source": [
    "plt.figure()\n",
    "plt.imshow(np.abs(av_ps_str))\n",
    "plt.colorbar()"
   ]
  },
  {
   "cell_type": "code",
   "execution_count": 565,
   "metadata": {},
   "outputs": [
    {
     "data": {
      "text/plain": [
       "[<matplotlib.lines.Line2D at 0x98e619e470>]"
      ]
     },
     "execution_count": 565,
     "metadata": {},
     "output_type": "execute_result"
    }
   ],
   "source": [
    "rows,cols = av_ps_str.shape\n",
    "\n",
    "mid_row = int(rows / 2)\n",
    "\n",
    "av_ps_str_slice = av_ps_str[mid_row]\n",
    "\n",
    "plt.figure()\n",
    "plt.plot(abs(del_r)/r0, vk)\n",
    "plt.plot(abs(del_r)/r0,-np.diagonal(av_ps_str[1:int(N/2):])+205, '.-')\n",
    "plt.plot(abs(del_r)/r0,-np.flip(av_ps_str_slice[int(N/2+1):]-125), '.-')"
   ]
  },
  {
   "cell_type": "code",
   "execution_count": 566,
   "metadata": {},
   "outputs": [],
   "source": [
    "plt.figure()\n",
    "plt.plot(abs(del_r)/r0, kol)\n",
    "plt.plot(abs(del_r)/r0, vk)\n",
    "#plt.plot(abs(del_r)/r0, av_ps_str[int(-N/2 +1):])\n",
    "plt.grid()"
   ]
  },
  {
   "cell_type": "code",
   "execution_count": 567,
   "metadata": {},
   "outputs": [
    {
     "data": {
      "text/plain": [
       "<matplotlib.colorbar.Colorbar at 0x98e5d62390>"
      ]
     },
     "execution_count": 567,
     "metadata": {},
     "output_type": "execute_result"
    }
   ],
   "source": [
    "plt.figure()\n",
    "plt.imshow(np.abs(av_ps_corr))\n",
    "plt.colorbar()\n",
    "plt.figure()\n",
    "plt.imshow(np.abs(av_ps_str))\n",
    "plt.colorbar()"
   ]
  },
  {
   "cell_type": "code",
   "execution_count": 568,
   "metadata": {},
   "outputs": [
    {
     "data": {
      "text/plain": [
       "[<matplotlib.lines.Line2D at 0x98e86b1fd0>]"
      ]
     },
     "execution_count": 568,
     "metadata": {},
     "output_type": "execute_result"
    }
   ],
   "source": [
    "test = aotools.turbulence.phase_covariance(del_r, r0, L0)\n",
    "plt.figure()\n",
    "plt.plot(abs(del_r)/r0,np.sqrt(test))"
   ]
  },
  {
   "cell_type": "code",
   "execution_count": 569,
   "metadata": {},
   "outputs": [],
   "source": [
    "def mvK_str(r,r0,l0,L0):\n",
    "    \n",
    "    k0 = 2*np.pi / L0\n",
    "    \n",
    "    term1 = 7.75*r0**(-5.0/3)*l0**(-1.0/3)*r**2\n",
    "    \n",
    "    term2 = pow(1 + 2.03*r**2 / (l0**2), 1.0/6)\n",
    "    \n",
    "    term3 = 0.72*(k0*l0)**(1.0/3)\n",
    "    \n",
    "    return term1 * (1/term2 - term3)"
   ]
  },
  {
   "cell_type": "code",
   "execution_count": 570,
   "metadata": {},
   "outputs": [],
   "source": [
    "mvk = mvK_str(del_r,r0,l0,L0)"
   ]
  },
  {
   "cell_type": "code",
   "execution_count": 571,
   "metadata": {},
   "outputs": [
    {
     "data": {
      "text/plain": [
       "[<matplotlib.lines.Line2D at 0x98e60b3e10>]"
      ]
     },
     "execution_count": 571,
     "metadata": {},
     "output_type": "execute_result"
    }
   ],
   "source": [
    "plt.figure()\n",
    "plt.plot(abs(del_r)/r0,mvk)\n",
    "plt.plot(abs(del_r)/r0, vk)\n",
    "plt.plot(abs(del_r)/r0,-np.diagonal(av_ps_str[1:int(N/2):])+205, '.-')\n",
    "plt.plot(abs(del_r)/r0,-np.flip(av_ps_str_slice[int(N/2+1):]-125), '.-')"
   ]
  },
  {
   "cell_type": "code",
   "execution_count": null,
   "metadata": {},
   "outputs": [],
   "source": []
  }
 ],
 "metadata": {
  "kernelspec": {
   "display_name": "Python 3",
   "language": "python",
   "name": "python3"
  },
  "language_info": {
   "codemirror_mode": {
    "name": "ipython",
    "version": 3
   },
   "file_extension": ".py",
   "mimetype": "text/x-python",
   "name": "python",
   "nbconvert_exporter": "python",
   "pygments_lexer": "ipython3",
   "version": "3.7.3"
  }
 },
 "nbformat": 4,
 "nbformat_minor": 2
}
