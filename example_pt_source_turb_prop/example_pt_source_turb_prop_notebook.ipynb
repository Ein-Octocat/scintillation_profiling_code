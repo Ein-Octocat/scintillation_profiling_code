{
 "cells": [
  {
   "cell_type": "code",
   "execution_count": 37,
   "metadata": {},
   "outputs": [],
   "source": [
    "\"\"\"\n",
    "Preforming turbulent simulations\n",
    "\n",
    "More text to follow....\n",
    "\"\"\"\n",
    "\n",
    "import numpy as np\n",
    "import matplotlib.pyplot as plt\n",
    "import aotools\n",
    "import gen_turb_conditions\n",
    "import ang_spec_multi_prop\n",
    "%matplotlib qt"
   ]
  },
  {
   "cell_type": "code",
   "execution_count": 38,
   "metadata": {},
   "outputs": [],
   "source": [
    "def sg_absorber(nx, ny, sig, n=16):\n",
    "    \n",
    "    rn = np.sqrt(nx**2 + ny**2)\n",
    "    \n",
    "    return np.exp(-(rn/sig)**n)"
   ]
  },
  {
   "cell_type": "code",
   "execution_count": 39,
   "metadata": {},
   "outputs": [],
   "source": [
    "\"\"\"\n",
    "Sinc-Gaussian model point source in polar co-ordinates\n",
    "\"\"\"\n",
    "\n",
    "def sinc_gauss(x, y, r, k, R, D):\n",
    "    \n",
    "    return np.exp( -1j * k/(2*R) * r**2) / D**2 * np.sinc(x/D) * np.sinc(y/D) * np.exp(-(r/(4*D))**2)"
   ]
  },
  {
   "cell_type": "code",
   "execution_count": 40,
   "metadata": {},
   "outputs": [],
   "source": [
    "def cart2pol(x, y):\n",
    "    rho = np.sqrt(x**2 + y**2)\n",
    "    phi = np.arctan2(y, x)\n",
    "    return phi, rho"
   ]
  },
  {
   "cell_type": "code",
   "execution_count": 41,
   "metadata": {},
   "outputs": [],
   "source": [
    "def circ(x, y, a): # can't get to work weirdly - now defunct -> aotools.functions.pupil.circle()\n",
    "    \n",
    "    z = np.zeros_like(x)\n",
    "    \n",
    "    rows = len(x[0])\n",
    "    columns = len(x[:0])\n",
    "    \n",
    "    r = np.sqrt(x**2 + y**2)\n",
    "    \n",
    "    for j in range(columns):\n",
    "        \n",
    "        for i in range(rows):\n",
    " \n",
    "            if (r[i,j] < a):\n",
    "        \n",
    "                z[i,j] = 1\n",
    "            \n",
    "            if (r[i,j] == a):\n",
    "                \n",
    "                z[i,j] = 0.5\n",
    "                \n",
    "            if (r[i,j] > a):\n",
    "                \n",
    "                z[i,j] = 0\n",
    "               \n",
    "    return z"
   ]
  },
  {
   "cell_type": "code",
   "execution_count": 42,
   "metadata": {},
   "outputs": [],
   "source": [
    "\"\"\"\n",
    "Big list of parameters ...probably more to come\n",
    "\"\"\"\n",
    "\n",
    "l0 = 1e-20#inner scale [m]\n",
    "L0 = 1e20 #approx 'inf' outer scale [m]\n",
    "\n",
    "#L0 = 100.0 #Length of outer scale [m] - typically 100 m\n",
    "#l0 = 0.01 #Length of inner scale [m] - typically 1-100 mm\n",
    "\n",
    "D2 = 0.5 #diameter of the observation aperture [m]\n",
    "wvl = 1e-6 #optical wavelength [m]\n",
    "k = 2*np.pi / wvl #optical wavenumber [rad/m]\n",
    "Dz = 50e3 #propagation distance [m]\n",
    "\n",
    "#use sinc to model pt source\n",
    "DROI = 4*D2\n",
    "D1 = wvl*Dz / DROI\n",
    "\n",
    "delta1 = 10e-3 #spacing at source screen [m]\n",
    "deltan = 10e-3 #spacing at observation [m]\n",
    "N = 512 #dfft power of 2  efficiency etc\n",
    "n = 11 #number of partial propagations (n+1 screens needed altogether)\n",
    "\n",
    "R = Dz #radius curvature of wavefront - set 'inf' if plane wave\n",
    "\n",
    "# switch from total distance to individual distances - position of each screen through not source (?)\n",
    "z = np.arange(1,n+1) * Dz/n\n",
    "z = np.insert(z,0,0) #add source position here at origin - Position of screens and distance from plane 1\n",
    "n = int(z.shape[0]) #now n is total number of screens and there are n-1 partial propagations \n",
    "delta_z = np.diff(z) # array of propagation distances from plane i to plane i+1, not total propagation distance\n",
    "\n",
    "alpha = z / z[-1] \n",
    "\n",
    "delta = (1 - alpha) * delta1 + alpha * deltan"
   ]
  },
  {
   "cell_type": "code",
   "execution_count": 43,
   "metadata": {},
   "outputs": [
    {
     "name": "stdout",
     "output_type": "stream",
     "text": [
      "[3.10647639e-03 8.17935220e+00 1.15193775e+01 1.20279764e+01\n",
      " 1.01448698e+01 6.07980753e+00 8.58045351e-02 8.19408877e+00\n",
      " 8.14501286e+00 7.77323654e+00 6.99691527e+00 5.38363493e+00] 0.12664241226501954 0.07030689768053816 0.4364896658907703\n"
     ]
    }
   ],
   "source": [
    "Cn2 = 1.0e-16\n",
    "r0scrn, A, B, r0sw, r0pw, rytov = gen_turb_conditions.gen_turb_conditions_func(Cn2, k, Dz, n) #pw = plane wave, sw = spherical wave\n",
    "\n",
    "print(r0scrn,r0sw,r0pw,rytov)\n",
    "#print(B - A.dot(r0scrn))"
   ]
  },
  {
   "cell_type": "code",
   "execution_count": 44,
   "metadata": {},
   "outputs": [],
   "source": [
    "x1, y1 = np.meshgrid( delta1*np.arange(-N/2,N/2), delta1*np.arange(-N/2,N/2) )\n",
    "theta, r1 = cart2pol(x1,y1) \n",
    "\n",
    "pt = sinc_gauss(x1, y1, r1, k, R, D1)"
   ]
  },
  {
   "cell_type": "code",
   "execution_count": 45,
   "metadata": {},
   "outputs": [],
   "source": [
    "sig = 0.47*N*delta1\n",
    "sg = sg_absorber(x1, y1, sig)"
   ]
  },
  {
   "cell_type": "code",
   "execution_count": 46,
   "metadata": {},
   "outputs": [
    {
     "data": {
      "text/plain": [
       "<matplotlib.colorbar.Colorbar at 0x7f67340e0ac8>"
      ]
     },
     "execution_count": 46,
     "metadata": {},
     "output_type": "execute_result"
    }
   ],
   "source": [
    "pixelised_diameter = D2 / deltan\n",
    "pixelised_radius = pixelised_diameter /2\n",
    "size = len(x1)\n",
    "mask = aotools.functions.pupil.circle(pixelised_radius, size)\n",
    "\n",
    "plt.figure()\n",
    "plt.imshow(mask)\n",
    "plt.colorbar()"
   ]
  },
  {
   "cell_type": "code",
   "execution_count": 47,
   "metadata": {},
   "outputs": [],
   "source": [
    "MCF2 = np.zeros ((N,N))"
   ]
  },
  {
   "cell_type": "code",
   "execution_count": 48,
   "metadata": {},
   "outputs": [],
   "source": [
    "ang_spec_multi_prop.set_up_geometry(pt, delta, z, n)"
   ]
  },
  {
   "cell_type": "code",
   "execution_count": 49,
   "metadata": {},
   "outputs": [
    {
     "data": {
      "text/plain": [
       "<matplotlib.colorbar.Colorbar at 0x7f6733059748>"
      ]
     },
     "execution_count": 49,
     "metadata": {},
     "output_type": "execute_result"
    }
   ],
   "source": [
    "Uouts = []\n",
    "nreals = 1\n",
    "\n",
    "for idxreal in range(0, nreals):\n",
    " \n",
    "    t = [np.exp(1j*aotools.turbulence.phasescreen.ft_sh_phase_screen(r0scrn[idxscr], N, delta[idxscr], L0, l0, FFT=None, seed=None)) for idxscr in range(0, n-1)]\n",
    "    \n",
    "    xn, yn, Uout = ang_spec_multi_prop.ang_spec_multi_prop_func(pt, wvl, delta1, deltan, z, sg, t)\n",
    "    \n",
    "    Uout = Uout * np.exp(-1j * np.pi /(wvl*R) * (xn**2 + yn**2)) #Collimate beam\n",
    "    \n",
    "    Uouts.append(Uout)\n",
    "       \n",
    "    MCF2 = MCF2 + ang_spec_multi_prop.corr2_ft(Uout, Uout, mask, deltan)#accumulate 2-D Mutual Coherence Function (un-normalised)\n",
    "    \n",
    "    \n",
    "    #plt.figure()\n",
    "    #plt.imshow( np.abs(Uout)**2 )\n",
    "    #plt.colorbar()\n",
    "    \n",
    "    #plt.figure()\n",
    "    #plt.imshow( np.angle(Uout) )\n",
    "    #plt.colorbar()\n",
    "    \n",
    "MCDOC2 = np.abs(MCF2) / MCF2[int(N/2),int(N/2)]\n",
    "\n",
    "#mask = circ(xn/D2, yn/D2, 1)\n",
    "\n",
    "plt.figure()\n",
    "plt.imshow(np.abs(MCDOC2))\n",
    "plt.colorbar()"
   ]
  },
  {
   "cell_type": "code",
   "execution_count": 50,
   "metadata": {},
   "outputs": [
    {
     "data": {
      "text/plain": [
       "<matplotlib.colorbar.Colorbar at 0x7f6732e51908>"
      ]
     },
     "execution_count": 50,
     "metadata": {},
     "output_type": "execute_result"
    }
   ],
   "source": [
    "plt.figure()\n",
    "plt.imshow( np.abs(Uout)**2 )\n",
    "plt.colorbar()"
   ]
  },
  {
   "cell_type": "code",
   "execution_count": 51,
   "metadata": {},
   "outputs": [
    {
     "data": {
      "text/plain": [
       "<matplotlib.colorbar.Colorbar at 0x7f6732d746a0>"
      ]
     },
     "execution_count": 51,
     "metadata": {},
     "output_type": "execute_result"
    }
   ],
   "source": [
    "plt.figure()\n",
    "plt.imshow(np.angle(t[0]))\n",
    "plt.colorbar()"
   ]
  },
  {
   "cell_type": "code",
   "execution_count": 52,
   "metadata": {},
   "outputs": [],
   "source": [
    "del_r = np.arange(1,N) * deltan\n",
    "\n",
    "vk = aotools.turbulence.slopecovariance.structure_function_vk(del_r, r0pw, L0)\n",
    "kol = aotools.turbulence.slopecovariance.structure_function_kolmogorov(del_r, r0pw)\n",
    "\n",
    "sf = [aotools.turbulence.calculate_structure_function(np.angle(phase_screen), nbOfPoint=N, step=None) for i, phase_screen in enumerate(t)]\n",
    "sf = np.asarray(sf)\n",
    "av_sf = sf.mean(axis = 0)\n",
    "\n",
    "plt.figure()\n",
    "plt.plot(abs(del_r)/r0pw ,vk, label = 'VK') \n",
    "plt.plot(abs(del_r)/r0pw ,kol, label = 'KOL') \n",
    "plt.legend()\n",
    "plt.grid()\n",
    "\n",
    "plt.figure()\n",
    "for i,sfi in enumerate(sf):\n",
    "    plt.plot(abs(del_r)/r0pw ,sfi ,'-.',label = ('Phase Screen ' + str(i) + ': r0 = ' + str( round(r0scrn[i],3) ) ) )\n",
    "plt.legend()\n",
    "plt.grid()"
   ]
  },
  {
   "cell_type": "code",
   "execution_count": 53,
   "metadata": {},
   "outputs": [
    {
     "data": {
      "text/plain": [
       "[<matplotlib.lines.Line2D at 0x7f6732f1b550>]"
      ]
     },
     "execution_count": 53,
     "metadata": {},
     "output_type": "execute_result"
    }
   ],
   "source": [
    "\"\"\"\n",
    "Inspect middle row cross-section of intensity and phase\n",
    "\"\"\"\n",
    "\n",
    "rows,cols = MCDOC2.shape\n",
    "\n",
    "mid_row = int(rows / 2)\n",
    "\n",
    "MCDOC2_slice = MCDOC2[mid_row]\n",
    "\n",
    "xn_slice = xn[mid_row]\n",
    "\n",
    "plt.figure()\n",
    "plt.plot(xn_slice/r0pw, np.abs(MCDOC2_slice), '.-')"
   ]
  },
  {
   "cell_type": "code",
   "execution_count": 54,
   "metadata": {},
   "outputs": [],
   "source": [
    "#sh_sf = [aotools.turbulence.calculate_structure_function(sh_phase_screen, nbOfPoint=N, step=None) for i, sh_phase_screen in enumerate(sh_ps)]"
   ]
  }
 ],
 "metadata": {
  "kernelspec": {
   "display_name": "Python 3",
   "language": "python",
   "name": "python3"
  },
  "language_info": {
   "codemirror_mode": {
    "name": "ipython",
    "version": 3
   },
   "file_extension": ".py",
   "mimetype": "text/x-python",
   "name": "python",
   "nbconvert_exporter": "python",
   "pygments_lexer": "ipython3",
   "version": "3.7.3"
  }
 },
 "nbformat": 4,
 "nbformat_minor": 2
}
