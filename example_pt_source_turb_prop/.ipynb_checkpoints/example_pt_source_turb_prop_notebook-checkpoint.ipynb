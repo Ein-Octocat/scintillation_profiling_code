{
 "cells": [
  {
   "cell_type": "code",
   "execution_count": 21,
   "metadata": {},
   "outputs": [],
   "source": [
    "\"\"\"\n",
    "Preforming turbulent simulations\n",
    "\n",
    "More text to follow....\n",
    "\"\"\"\n",
    "\n",
    "import numpy as np\n",
    "import matplotlib.pyplot as plt\n",
    "%matplotlib qt\n",
    "import aotools\n",
    "\n",
    "import gen_turb_conditions\n",
    "import ang_spec_multi_prop"
   ]
  },
  {
   "cell_type": "code",
   "execution_count": 22,
   "metadata": {},
   "outputs": [],
   "source": [
    "def sg_absorber(nx, ny, sig, n=16):\n",
    "    \n",
    "    rn = np.sqrt(nx**2 + ny**2)\n",
    "    \n",
    "    return np.exp(-(rn/sig)**n)"
   ]
  },
  {
   "cell_type": "code",
   "execution_count": 23,
   "metadata": {},
   "outputs": [],
   "source": [
    "\"\"\"\n",
    "Sinc-Gaussian model point source in polar co-ordinates\n",
    "\"\"\"\n",
    "\n",
    "def sinc_gauss(x, y, r, k, R, D):\n",
    "    \n",
    "    return np.exp( -1j * k/(2*R) * r**2) / D**2 * np.sinc(x/D) * np.sinc(y/D) * np.exp(-(r/(4*D))**2)"
   ]
  },
  {
   "cell_type": "code",
   "execution_count": 24,
   "metadata": {},
   "outputs": [],
   "source": [
    "def cart2pol(x, y):\n",
    "    rho = np.sqrt(x**2 + y**2)\n",
    "    phi = np.arctan2(y, x)\n",
    "    return phi, rho"
   ]
  },
  {
   "cell_type": "code",
   "execution_count": 25,
   "metadata": {},
   "outputs": [],
   "source": [
    "def circ(x, y, a):\n",
    "    \n",
    "    z = np.zeros_like(x)\n",
    "    \n",
    "    rows = len(x[0])\n",
    "    columns = len(x[:0])\n",
    "    \n",
    "    r = np.sqrt(x**2 + y**2)\n",
    "    \n",
    "    for j in range(columns):\n",
    "        \n",
    "        for i in range(rows):\n",
    " \n",
    "            if (r[i,j] < a):\n",
    "        \n",
    "                z[i,j] = 1\n",
    "            \n",
    "            if (r[i,j] == a):\n",
    "                \n",
    "                z[i,j] = 0.5\n",
    "                \n",
    "            if (r[i,j] > a):\n",
    "                \n",
    "                z[i,j] = 0\n",
    "               \n",
    "    return z"
   ]
  },
  {
   "cell_type": "code",
   "execution_count": 26,
   "metadata": {},
   "outputs": [],
   "source": [
    "\"\"\"\n",
    "Big list of parameters ...probably more to come\n",
    "\"\"\"\n",
    "\n",
    "l0 = 1e-20#inner scale [m]\n",
    "L0 = 1e20 #approx 'inf' outer scale [m]\n",
    "\n",
    "D2 = 0.5 #diameter of the observation aperture [m]\n",
    "wvl = 1e-6 #optical wavelength [m]\n",
    "k = 2*np.pi / wvl #optical wavenumber [rad/m]\n",
    "Dz = 50e3 #propagation distance [m]\n",
    "\n",
    "#use sinc to model pt source\n",
    "DROI = 4*D2\n",
    "D1 = wvl*Dz / DROI\n",
    "\n",
    "delta1 = 10e-3 #spacing at source screen [m]\n",
    "deltan = 10e-3 #spacing at observation [m]\n",
    "N = 512 #dfft power of 2  efficiency etc\n",
    "n = 11 #number of partial propagations (n+1 screens needed altogether)\n",
    "\n",
    "R = Dz #radius curvature of wavefront - set 'inf' if plane wave\n",
    "\n",
    "# switch from total distance to individual distances - position of each screen through not source (?)\n",
    "z = np.arange(1,n+1) * Dz/n\n",
    "z = np.insert(z,0,0) #add source position here at origin - Position of screens and distance from plane 1\n",
    "n = int(z.shape[0]) #now n is total number of screens and there are n-1 partial propagations \n",
    "delta_z = np.diff(z) # array of propagation distances from plane i to plane i+1, not total propagation distance\n",
    "\n",
    "alpha = z / z[-1] \n",
    "\n",
    "delta = (1 - alpha) * delta1 + alpha * deltan"
   ]
  },
  {
   "cell_type": "code",
   "execution_count": 27,
   "metadata": {},
   "outputs": [
    {
     "name": "stdout",
     "output_type": "stream",
     "text": [
      "[ 3.10647639  8.9509973  11.38426715 11.75730414 10.86764659  8.62725349\n",
      "  5.0248274   0.05058782  7.56334709  7.54622077  7.38419568  6.79966695] 0.12664241226501954 0.07030689768053816 0.4364896658907703\n",
      "[-1.68274283e-10  1.01350039e-09]\n"
     ]
    }
   ],
   "source": [
    "Cn2 = 1.0e-16\n",
    "r0scrn,A,B,r0sw,r0pw,rytov = gen_turb_conditions.gen_turb_conditions_func(Cn2, k, Dz, n)\n",
    "print(r0scrn,r0sw,r0pw,rytov)\n",
    "print(B - A.dot(r0scrn))"
   ]
  },
  {
   "cell_type": "code",
   "execution_count": 28,
   "metadata": {},
   "outputs": [],
   "source": [
    "x1,y1 = np.meshgrid( delta1*np.arange(-N/2,N/2), delta1*np.arange(-N/2,N/2) )\n",
    "theta, r1 = cart2pol(x1,y1) \n",
    "\n",
    "pt = sinc_gauss(x1, y1, r1, k, R, D1)\n",
    "Uin = pt"
   ]
  },
  {
   "cell_type": "code",
   "execution_count": 29,
   "metadata": {},
   "outputs": [],
   "source": [
    "sig = 0.47*N*delta1\n",
    "sg = sg_absorber(x1,y1,sig)"
   ]
  },
  {
   "cell_type": "code",
   "execution_count": 30,
   "metadata": {},
   "outputs": [],
   "source": [
    "Uouts = []\n",
    "nreals = 1\n",
    "\n",
    "for idxreal in range(0, nreals):\n",
    " \n",
    "    phz = [np.exp(1j*aotools.turbulence.phasescreen.ft_sh_phase_screen(r0scrn[idxscr], N, delta[idxscr], L0, l0, FFT=None, seed=None)) for idxscr in range(0, n-1)]\n",
    "    \n",
    "    xn, yn, Uout = ang_spec_multi_prop.ang_spec_multi_prop_func(pt, wvl, delta1, deltan, z, sg, phz)\n",
    "    \n",
    "    Uout = Uout * np.exp(-1j * np.pi /(wvl*R) * (xn**2 + yn**2))\n",
    "    \n",
    "    plt.figure()\n",
    "    plt.imshow( np.abs(Uout)**2 )\n",
    "    plt.colorbar()\n",
    "    \n",
    "    plt.figure()\n",
    "    plt.imshow( np.angle(Uout) )\n",
    "    plt.colorbar()\n",
    "    \n",
    "    Uouts.append(Uout)\n",
    "\n",
    "#mask = circ(xn/D2, yn/D2, 1)\n",
    "#plt.figure()\n",
    "#plt.imshow(mask)\n",
    "#plt.colorbar()\n",
    "                                                                                    "
   ]
  }
 ],
 "metadata": {
  "kernelspec": {
   "display_name": "Python 3",
   "language": "python",
   "name": "python3"
  },
  "language_info": {
   "codemirror_mode": {
    "name": "ipython",
    "version": 3
   },
   "file_extension": ".py",
   "mimetype": "text/x-python",
   "name": "python",
   "nbconvert_exporter": "python",
   "pygments_lexer": "ipython3",
   "version": "3.7.3"
  }
 },
 "nbformat": 4,
 "nbformat_minor": 2
}
