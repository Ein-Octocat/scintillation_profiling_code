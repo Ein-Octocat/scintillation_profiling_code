{
 "cells": [
  {
   "cell_type": "code",
   "execution_count": 1,
   "metadata": {},
   "outputs": [],
   "source": [
    "def gen_turb_conditions_func(Cn2, k, Dz, nscr):\n",
    "    #import numpy as np\n",
    "    #SW and PW coherence diameters [m]\n",
    "    r0sw = (0.423 * k**2 * Cn2 * 3.0/8 * Dz)**(-3.0/5)\n",
    "    r0pw = (0.423 * k**2 * Cn2 * Dz)**(-3.0/5)\n",
    "    p = np.linspace(0, Dz, 1000)\n",
    "    \n",
    "    rytov = 0.563 * k**(7.0/6) * np.sum( Cn2 * (1 - p/Dz)**(5.0/6) * p**(5.0/6) * (p[1] - p[0]) )\n",
    "\n",
    "    #screen properties\n",
    "    nscr = 11 #number of screens\n",
    "\n",
    "    A = np.zeros((2,nscr))\n",
    "\n",
    "    alpha = np.arange(0,nscr)/(nscr-1)    \n",
    "    \n",
    "    A[0] = alpha**(5.0/3)\n",
    "    A[1] = (1 - alpha)**(5.0/6) * alpha**(5.0/6)\n",
    "\n",
    "    B = np.asarray([r0sw**(-5.0/3), rytov/1.33 * (k/Dz)**(5.0/6)])  \n",
    "    \n",
    "    #initial guess\n",
    "    x0 = (nscr/3*r0sw * np.ones(nscr))**(-5.0/6)    \n",
    "    \n",
    "    #objective function\n",
    "\n",
    "    def fun(x, A, B):\n",
    "        return B - A.dot(x)\n",
    "\n",
    "    #minimise using scipy.optimize.least_squares - allows contraint that x>0 through setting bounds\n",
    "    res = least_squares(fun, x0, args =(A,B), bounds = (0,np.inf))  \n",
    "    \n",
    "    x = res.x\n",
    "    \n",
    "    return x"
   ]
  }
 ],
 "metadata": {
  "kernelspec": {
   "display_name": "Python 3",
   "language": "python",
   "name": "python3"
  },
  "language_info": {
   "codemirror_mode": {
    "name": "ipython",
    "version": 3
   },
   "file_extension": ".py",
   "mimetype": "text/x-python",
   "name": "python",
   "nbconvert_exporter": "python",
   "pygments_lexer": "ipython3",
   "version": "3.7.3"
  }
 },
 "nbformat": 4,
 "nbformat_minor": 2
}
