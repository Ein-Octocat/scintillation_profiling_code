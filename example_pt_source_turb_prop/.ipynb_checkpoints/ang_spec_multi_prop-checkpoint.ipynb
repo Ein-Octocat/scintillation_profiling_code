{
 "cells": [
  {
   "cell_type": "code",
   "execution_count": null,
   "metadata": {},
   "outputs": [],
   "source": [
    "\"\"\"\n",
    "Adapted from Matlab code written by (Schmidt,2010-Chp 2-pg 36)\n",
    "\"\"\"\n",
    "def ft2(g, delta):   \n",
    "    import scipy.fftpack as sp\n",
    "    return sp.fftshift( sp.fft2( sp.fftshift(g) ) ) * delta**2"
   ]
  },
  {
   "cell_type": "code",
   "execution_count": null,
   "metadata": {},
   "outputs": [],
   "source": [
    "\"\"\"\n",
    "Adapted from Matlab code written by (Schmidt,2010,Chp2,pg37)\n",
    "\"\"\"\n",
    "def ift2(G, delta_f):\n",
    "    import scipy.fftpack as sp\n",
    "    N = G.shape[0]\n",
    "    \n",
    "    return sp.ifftshift( sp.ifft2( sp.ifftshift(G) ) ) * (N * delta_f)**2"
   ]
  },
  {
   "cell_type": "code",
   "execution_count": null,
   "metadata": {},
   "outputs": [],
   "source": [
    "def ang_spec_multi_prop_func(pt, wvl, delta1, deltan, z, sg):\n",
    "    \n",
    "    import numpy as np\n",
    "    \n",
    "    delta_z = np.diff(z)\n",
    "    alpha = z / z[-1] \n",
    "\n",
    "    delta = (1 - alpha) * delta1 + alpha * deltan\n",
    "\n",
    "    m = delta[1:] / delta[0:-1] #scaling factor from i+1/i    \n",
    "\n",
    "    x1 = nx * delta[0]\n",
    "    y1 = ny * delta[0]\n",
    "\n",
    "    r1sq = x1**2 + y1**2\n",
    "\n",
    "    \"\"\"\n",
    "    Phase Factor 1\n",
    "    \"\"\"\n",
    "    Q1 =  np.exp(1j * k/2 * (1-m[0])/delta_z[0] * r1sq)\n",
    "\n",
    "    Uin = Uin * Q1\n",
    "    \n",
    "    for idx in range(0,n-1):\n",
    "\n",
    "        xi = nx * delta[idx]\n",
    "        yi = ny * delta[idx]\n",
    "\n",
    "        deltaf = 1 / (N * delta[idx])\n",
    "\n",
    "        fX = nx * deltaf\n",
    "        fY = ny * deltaf\n",
    "\n",
    "        fsq = fX**2 + fY**2\n",
    "\n",
    "        Z = delta_z[idx]\n",
    "        mag = m[idx]\n",
    "\n",
    "        \"\"\"\n",
    "        Phase Factor 2 (Quadratic Phase Factor)\n",
    "        \"\"\"\n",
    "\n",
    "        Q2 = np.exp(-1j * np.pi**2 * 2 * Z/mag/k*fsq)\n",
    "\n",
    "        Uin = ft2(Uin / mag, delta[idx])    \n",
    "        Uin = ift2(Q2 * Uin, deltaf) \n",
    "\n",
    "        Uin = sg[idx] * Uin #apply boundary absorber  \n",
    "        \n",
    "    xn = nx * delta[-1]\n",
    "    yn = ny * delta[-1]\n",
    "\n",
    "    rnsq = xn**2 + yn**2\n",
    "\n",
    "    \"\"\"\n",
    "    Phase Factor 3\n",
    "    \"\"\"\n",
    "    Q3 = np.exp(1j * k/2. * (m[-1]-1)/(m[-1]*Z) * rnsq)\n",
    "\n",
    "    Uout = Q3 * Uin\n",
    "        \n",
    "    return\n"
   ]
  }
 ],
 "metadata": {
  "kernelspec": {
   "display_name": "Python 3",
   "language": "python",
   "name": "python3"
  },
  "language_info": {
   "codemirror_mode": {
    "name": "ipython",
    "version": 3
   },
   "file_extension": ".py",
   "mimetype": "text/x-python",
   "name": "python",
   "nbconvert_exporter": "python",
   "pygments_lexer": "ipython3",
   "version": "3.7.3"
  }
 },
 "nbformat": 4,
 "nbformat_minor": 2
}
