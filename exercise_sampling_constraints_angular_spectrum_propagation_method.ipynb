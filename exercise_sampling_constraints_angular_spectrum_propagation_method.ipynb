{
 "cells": [
  {
   "cell_type": "code",
   "execution_count": 412,
   "metadata": {},
   "outputs": [],
   "source": [
    "\"\"\"\n",
    "From pg 127 (Schmidt, 2010) - graphically chosing parameters to satisfy sampling constraints\n",
    "\n",
    "Parameters:\n",
    "\n",
    "delta1 - sample spacing for source screen\n",
    "delta2 - sample spacing for observation screen\n",
    "N - number of grid points (both source and observation)\n",
    "D1 - maximum spatial extent of source\n",
    "D2 - maximum spatial extent of observation screen (e.g diameter of sensor)\n",
    "wvl - optical wavelength\n",
    "Dz - propagation distance\n",
    "R - radius of parabolic wavefront\n",
    "\"\"\"\n",
    "\n",
    "import numpy as np\n",
    "import matplotlib.pyplot as plt"
   ]
  },
  {
   "cell_type": "code",
   "execution_count": 413,
   "metadata": {},
   "outputs": [],
   "source": [
    "def constraint_1(D1,D2,delta1,wvl,Dz):\n",
    "    \n",
    "    delta2 = -(D2/D1)*delta1 + wvl*Dz/D1\n",
    "    \n",
    "    return delta2"
   ]
  },
  {
   "cell_type": "code",
   "execution_count": 414,
   "metadata": {},
   "outputs": [],
   "source": [
    "def constraint_2(delta1,delta2,D1,D2,wvl,Dz):\n",
    "    \n",
    "    delta1_mesh,delta2_mesh = np.meshgrid(delta1,delta2)\n",
    "    \n",
    "    N = D1/(2*delta1_mesh) + D2/(2*delta2_mesh) + wvl*Dz/(2*delta1_mesh*delta2_mesh) \n",
    "    \n",
    "    return delta1_mesh,delta2_mesh,N"
   ]
  },
  {
   "cell_type": "code",
   "execution_count": 415,
   "metadata": {},
   "outputs": [],
   "source": [
    "def constraint_3(delta1,D1,R,Dz,wvl):\n",
    "    \n",
    "    if (R != 'inf'): \n",
    "    \n",
    "        delta2_low = (1 + Dz/R)*delta1 - wvl*Dz/D1\n",
    "        delta2_high = (1 + Dz/R)*delta1 + wvl*Dz/D1\n",
    "        \n",
    "    if (R == 'inf'):\n",
    "        \n",
    "        delta2_low = delta1 - wvl*Dz/D1\n",
    "        delta2_high = delta1 + wvl*Dz/D1\n",
    "    \n",
    "    return delta2_low, delta2_high"
   ]
  },
  {
   "cell_type": "code",
   "execution_count": 416,
   "metadata": {},
   "outputs": [],
   "source": [
    "def constraint_4(delta1,delta2,wvl,Dz):\n",
    "    \n",
    "    delta1_mesh,delta2_mesh = np.meshgrid(delta1,delta2)\n",
    "    \n",
    "    N = wvl*Dz/(delta1_mesh*delta2_mesh)\n",
    "    \n",
    "    return delta1_mesh,delta2_mesh,N"
   ]
  },
  {
   "cell_type": "code",
   "execution_count": 417,
   "metadata": {},
   "outputs": [],
   "source": [
    "delta1 = np.linspace(1e-6, 30e-6,100)\n",
    "delta2 = np.linspace(1e-6, 60e-6,100)\n",
    "D1 = 2e-3\n",
    "D2 = 4e-3\n",
    "Dz = 0.1\n",
    "wvl = 1e-6\n",
    "R = 'inf'\n",
    "#R = 0.01\n",
    "\n",
    "delta2_contraint_1 = constraint_1(D1, D2, delta1, wvl, Dz)\n",
    "\n",
    "delta1_mesh, delta2_mesh, N_constraint_2 = constraint_2(delta1, delta2, D1, D2, wvl, Dz)\n",
    "\n",
    "delta2_contraint_3_low, delta2_constraint_3_high = constraint_3(delta1, D1, R, Dz, wvl)\n",
    "\n",
    "delta1_mesh, delta2_mesh, N_constraint_4 = constraint_4(delta1, delta2, wvl, Dz)"
   ]
  },
  {
   "cell_type": "code",
   "execution_count": 418,
   "metadata": {},
   "outputs": [],
   "source": [
    "#%matplotlib qt\n",
    "fig, ax = plt.subplots()\n",
    "\n",
    "plt.plot(delta1, delta2_contraint_1, '-.', label = 'Constraint 1')\n",
    "\n",
    "plt.plot(delta1, delta2_contraint_3_low, '--', label = 'Constraint 3 Low')\n",
    "plt.plot(delta1, delta2_contraint_3_high, '--', label = 'Constraint 3 High')\n",
    "\n",
    "#contour_constraint_3 = ax.contour( delta1_mesh, delta2_mesh, np.log2(N_constraint_2), 5, cmap = 'plasma') #needs contour label\n",
    "#ax.clabel(contour_constraint_3, inline=1, fontsize=10)\n",
    "\n",
    "contour_constraint_4 = ax.contour( delta1_mesh, delta2_mesh, np.log2(N_constraint_4), 10)\n",
    "ax.clabel(contour_constraint_4, inline=1, fontsize=10)\n",
    "\n",
    "plt.ticklabel_format(style='sci', scilimits=(0,0))\n",
    "\n",
    "plt.xlim(left=0)\n",
    "plt.ylim(bottom=0,top = 60e-6)\n",
    "\n",
    "plt.xlabel(r'$\\delta_1$ [m]')\n",
    "plt.ylabel(r'$\\delta_2$ [m]')\n",
    "\n",
    "plt.title('Constraint 4')\n",
    "plt.grid()\n",
    "\n",
    "plt.legend()\n",
    "plt.show()"
   ]
  },
  {
   "cell_type": "code",
   "execution_count": 419,
   "metadata": {},
   "outputs": [],
   "source": [
    "fig, ax = plt.subplots()\n",
    "\n",
    "plt.plot(delta1, delta2_contraint_1, '-.', label = 'Constraint 1')\n",
    "\n",
    "plt.plot(delta1, delta2_contraint_3_low, '--', label = 'Constraint 3 Low')\n",
    "plt.plot(delta1, delta2_contraint_3_high, '--', label = 'Constraint 3 High')\n",
    "\n",
    "contour_constraint_3 = ax.contour( delta1_mesh, delta2_mesh, np.log2(N_constraint_2), 10, cmap = 'plasma') #needs contour label\n",
    "ax.clabel(contour_constraint_3, inline=1, fontsize=10)\n",
    "\n",
    "#contour_constraint_4 = ax.contour( delta1_mesh, delta2_mesh, np.log2(N_constraint_4), 10)\n",
    "#ax.clabel(contour_constraint_4, inline=1, fontsize=10)\n",
    "\n",
    "plt.ticklabel_format(style='sci', scilimits=(0,0))\n",
    "\n",
    "plt.xlim(left=0)\n",
    "plt.ylim(bottom=0,top = 60e-6)\n",
    "\n",
    "plt.xlabel(r'$\\delta_1$ [m]')\n",
    "plt.ylabel(r'$\\delta_2$ [m]')\n",
    "\n",
    "plt.title('Constraint 2')\n",
    "plt.grid()\n",
    "\n",
    "plt.legend()\n",
    "plt.show()"
   ]
  }
 ],
 "metadata": {
  "kernelspec": {
   "display_name": "Python 3",
   "language": "python",
   "name": "python3"
  },
  "language_info": {
   "codemirror_mode": {
    "name": "ipython",
    "version": 3
   },
   "file_extension": ".py",
   "mimetype": "text/x-python",
   "name": "python",
   "nbconvert_exporter": "python",
   "pygments_lexer": "ipython3",
   "version": "3.7.3"
  }
 },
 "nbformat": 4,
 "nbformat_minor": 2
}
